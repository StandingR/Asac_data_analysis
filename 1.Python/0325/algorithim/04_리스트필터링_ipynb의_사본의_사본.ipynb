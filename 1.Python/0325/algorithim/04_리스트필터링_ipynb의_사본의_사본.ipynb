{
  "nbformat": 4,
  "nbformat_minor": 0,
  "metadata": {
    "colab": {
      "provenance": []
    },
    "kernelspec": {
      "name": "python3",
      "display_name": "Python 3"
    },
    "language_info": {
      "name": "python"
    }
  },
  "cells": [
    {
      "cell_type": "code",
      "execution_count": null,
      "metadata": {
        "id": "GGtIwcKgCIvH"
      },
      "outputs": [],
      "source": [
        "# 문제) a = [1,2,3,4,5]리스트가 있을 때,\n",
        "#       [1,3,5]의 리스트로 만들어 보세요!!!!\n",
        "# --> 기존의 값들에서 필요한 값들만"
      ]
    },
    {
      "cell_type": "code",
      "source": [],
      "metadata": {
        "id": "m1EIwCOmCVWt"
      },
      "execution_count": null,
      "outputs": []
    },
    {
      "cell_type": "code",
      "source": [
        "# sol 1) 내가 제거할 값들에 규칙이 있냐/ 없냐? ===> ye\n",
        "#       규칙 : 홀수 ===> 2로 나눠서 나머지가(%) 1인 값만 필터링 : if 제어문\n",
        "#       대상은 전체 리스트의 원소에 대해서 ..... => for"
      ],
      "metadata": {
        "id": "6fCX_7yTCVZQ"
      },
      "execution_count": null,
      "outputs": []
    },
    {
      "cell_type": "code",
      "source": [
        "a = [1,2,3,4,5]\n",
        "a"
      ],
      "metadata": {
        "colab": {
          "base_uri": "https://localhost:8080/"
        },
        "id": "mEAVl1yyCyZc",
        "outputId": "e264e7dd-5bbb-4b49-dc92-b232e333b8ba"
      },
      "execution_count": null,
      "outputs": [
        {
          "output_type": "execute_result",
          "data": {
            "text/plain": [
              "[1, 2, 3, 4, 5]"
            ]
          },
          "metadata": {},
          "execution_count": 2
        }
      ]
    },
    {
      "cell_type": "code",
      "source": [
        "b = []\n",
        "for i in a:\n",
        "    if i % 2 ==1:\n",
        "        b.append(i)\n",
        "b"
      ],
      "metadata": {
        "colab": {
          "base_uri": "https://localhost:8080/"
        },
        "id": "LrOgGyC6C3Tg",
        "outputId": "a2d62ca1-0338-481b-fa02-1fab1a51a7ac"
      },
      "execution_count": null,
      "outputs": [
        {
          "output_type": "execute_result",
          "data": {
            "text/plain": [
              "[1, 3, 5]"
            ]
          },
          "metadata": {},
          "execution_count": 3
        }
      ]
    },
    {
      "cell_type": "code",
      "source": [
        "# ==> 리스트 컴프레해션\n",
        "[ i for i in a if i %2 ==1]"
      ],
      "metadata": {
        "colab": {
          "base_uri": "https://localhost:8080/"
        },
        "id": "AvSeKvWBDBnB",
        "outputId": "4b3ca98a-55fc-4bad-e9f9-4ce4dc79553c"
      },
      "execution_count": null,
      "outputs": [
        {
          "output_type": "execute_result",
          "data": {
            "text/plain": [
              "[1, 3, 5]"
            ]
          },
          "metadata": {},
          "execution_count": 4
        }
      ]
    },
    {
      "cell_type": "code",
      "source": [
        "# sol2) 규칙이 없을 경우 !! => 데이터 수집 / 전처리 할떄 예외 케이스 !!!\n",
        "#      ===> 데이터 전처리 같은 예외처리(사람의 노가다)에 규칙이 없는 경우에 한해서..."
      ],
      "metadata": {
        "id": "CxxrMpDhDLBu"
      },
      "execution_count": null,
      "outputs": []
    },
    {
      "cell_type": "code",
      "source": [
        "# 할 수 있는일은 그냥 예외처리 할것들 리스트업 하는 것 !!!\n",
        "\n",
        "a = [1,2,3,4,5]\n",
        "for i in a:\n",
        "    if (i==1) or (i==3) or (i==5):\n",
        "        print(i)\n",
        "# ----> 이거 많으면 어떻게....?"
      ],
      "metadata": {
        "colab": {
          "base_uri": "https://localhost:8080/"
        },
        "id": "48z40DuHDjY_",
        "outputId": "da9bab56-dd5b-4a92-c8d1-6b9533ad580a"
      },
      "execution_count": null,
      "outputs": [
        {
          "output_type": "stream",
          "name": "stdout",
          "text": [
            "1\n",
            "3\n",
            "5\n"
          ]
        }
      ]
    },
    {
      "cell_type": "code",
      "source": [
        "# => 내가 선택 or 제거할 것들을 리스트업!!!\n",
        "a = [1,2,2,2,2,2,3,3,3,3,3,4,4,5,6,3,234,34,34,34,34,3,10]\n",
        "b =[1,3,5]\n",
        "for i in a:\n",
        "    if i in b: # b라는 값들에 하나라도 있으면.... or 연산에 대한 효과적인 처리\n",
        "        print(i)"
      ],
      "metadata": {
        "colab": {
          "base_uri": "https://localhost:8080/"
        },
        "id": "mxDd82zcDvsi",
        "outputId": "9d7aaf4c-1a1b-449f-dc1f-e09ace616519"
      },
      "execution_count": null,
      "outputs": [
        {
          "output_type": "stream",
          "name": "stdout",
          "text": [
            "1\n",
            "3\n",
            "3\n",
            "3\n",
            "3\n",
            "3\n",
            "5\n",
            "3\n",
            "3\n"
          ]
        }
      ]
    },
    {
      "cell_type": "code",
      "source": [
        "#중요 !!!) ㅑn\n",
        "# ---> for문에서는 in은 돌릴 대생들을 지정한느 것!!1\n",
        "# ---> if문에서는 필터링할 대상들을 리스트업 하는것 (데이터처러에서 간혹)"
      ],
      "metadata": {
        "id": "wpZT7kBIER6E"
      },
      "execution_count": null,
      "outputs": []
    },
    {
      "cell_type": "code",
      "source": [
        "# 살짝 문제상황을 수정 : a 에서 1,3,5만 아닌 수들을 추출하자\n",
        "a = [1,2,2,2,2,2,3,3,3,3,3,4,4,5,6,3,234,34,34,34,34,3,10]\n",
        "b =[1,3,5]\n",
        "for i in a:\n",
        "    if i not in b: # b라는 값들에 하나라도 있으면.... or 연산에 대한 효과적인 처리\n",
        "        print(i)"
      ],
      "metadata": {
        "colab": {
          "base_uri": "https://localhost:8080/"
        },
        "id": "r_3t_DyIEgKZ",
        "outputId": "8d001da9-0a70-450f-87f8-1d139b42bbf1"
      },
      "execution_count": null,
      "outputs": [
        {
          "output_type": "stream",
          "name": "stdout",
          "text": [
            "2\n",
            "2\n",
            "2\n",
            "2\n",
            "2\n",
            "4\n",
            "4\n",
            "6\n",
            "234\n",
            "34\n",
            "34\n",
            "34\n",
            "34\n",
            "10\n"
          ]
        }
      ]
    },
    {
      "cell_type": "code",
      "source": [
        "# 리스트 컴프리핸션\n",
        "# 위의 필터링 구조도 기본적으로 리스트 컴프리핸션 가능\n",
        " [ i for i in a if i not in [1,3,5]]"
      ],
      "metadata": {
        "colab": {
          "base_uri": "https://localhost:8080/"
        },
        "id": "b_XweqibErqo",
        "outputId": "dacfee94-fcad-422c-9da1-513f2991b0c1"
      },
      "execution_count": null,
      "outputs": [
        {
          "output_type": "execute_result",
          "data": {
            "text/plain": [
              "[2, 2, 2, 2, 2, 4, 4, 6, 234, 34, 34, 34, 34, 10]"
            ]
          },
          "metadata": {},
          "execution_count": 13
        }
      ]
    },
    {
      "cell_type": "code",
      "source": [
        "[i+10 for i in a if i not in [1,3,5]]"
      ],
      "metadata": {
        "colab": {
          "base_uri": "https://localhost:8080/"
        },
        "id": "YHEq8WOjE_CI",
        "outputId": "0ca9e693-14db-4c18-f883-c92644dc1d76"
      },
      "execution_count": null,
      "outputs": [
        {
          "output_type": "execute_result",
          "data": {
            "text/plain": [
              "[12, 12, 12, 12, 12, 14, 14, 16, 244, 44, 44, 44, 44, 20]"
            ]
          },
          "metadata": {},
          "execution_count": 14
        }
      ]
    },
    {
      "cell_type": "code",
      "source": [
        "# 정리\n",
        "# if문에 여러 조건이 들어갈떄 (필터링 관련된 부분에서)\n",
        "# ---> 대상을 중심으로 리스트업 방식으로 취할 수 있음\n",
        "#       in, not in ~~~~"
      ],
      "metadata": {
        "id": "vaeynQI_FHoW"
      },
      "execution_count": null,
      "outputs": []
    },
    {
      "cell_type": "code",
      "source": [
        "##########################################"
      ],
      "metadata": {
        "id": "H4P3bRbSFXtM"
      },
      "execution_count": null,
      "outputs": []
    },
    {
      "cell_type": "code",
      "source": [
        "# 문제) 시험성적을 봤는데...\n",
        "# 시험성적 a = [90,80,30, 50, 60, 70, 85, 99]\n",
        "# 시험의 통과 점수를 60점 이상이로 할떄... 몇명이 통과?\n",
        "\n",
        "a = [90,80,30, 50, 60, 70, 85, 99]\n",
        "\n",
        "pass_score = []\n",
        "\n",
        "for score in a:\n",
        "    if score > 60:\n",
        "        pass_score.append(score)\n",
        "\n",
        "print(pass_score)"
      ],
      "metadata": {
        "colab": {
          "base_uri": "https://localhost:8080/"
        },
        "id": "XXmbuV1BFY6M",
        "outputId": "add6b00c-3bee-4c0d-f4f2-64b9458f5e63"
      },
      "execution_count": null,
      "outputs": [
        {
          "output_type": "stream",
          "name": "stdout",
          "text": [
            "[90, 80, 70, 85, 99]\n"
          ]
        }
      ]
    },
    {
      "cell_type": "code",
      "source": [
        "[]"
      ],
      "metadata": {
        "id": "XmYv3p0QG9-p"
      },
      "execution_count": null,
      "outputs": []
    },
    {
      "cell_type": "code",
      "source": [],
      "metadata": {
        "id": "Jdz1_JQuG9x1"
      },
      "execution_count": null,
      "outputs": []
    },
    {
      "cell_type": "code",
      "source": [
        "[ i for i in a if i > 60]"
      ],
      "metadata": {
        "colab": {
          "base_uri": "https://localhost:8080/"
        },
        "id": "t_cjyLiuGB20",
        "outputId": "15e58334-59f1-4178-ee32-8a0fe42eef66"
      },
      "execution_count": null,
      "outputs": [
        {
          "output_type": "execute_result",
          "data": {
            "text/plain": [
              "[90, 80, 70, 85, 99]"
            ]
          },
          "metadata": {},
          "execution_count": 21
        }
      ]
    },
    {
      "cell_type": "code",
      "source": [
        "len([ i for i in a if i >= 60 ])"
      ],
      "metadata": {
        "colab": {
          "base_uri": "https://localhost:8080/"
        },
        "id": "mF7LKrGQGQ-g",
        "outputId": "4cfbd890-5272-4b2e-a51a-a8d22396904d"
      },
      "execution_count": null,
      "outputs": [
        {
          "output_type": "execute_result",
          "data": {
            "text/plain": [
              "6"
            ]
          },
          "metadata": {},
          "execution_count": 26
        }
      ]
    },
    {
      "cell_type": "code",
      "source": [
        "## 정리)\n",
        "# 값들에 대해서 정리 / 필터링 ===> 규칙이 있냐, 없냐\n",
        "# 규칙이 있다면.. 규칙을 코드화 적업\n",
        "# 규칙이 없다면... 최소한으로 리스트업 하면됨\n",
        "\n",
        "## ++ 필터링은 간단하게 리스트 컴프리핸션을 떠올려서 코드 간략화 작업!!\n",
        "## ++ 리스트컴프리핸션의 결과도 리스트이므로.... 리스트로 하는 여러 작동을 추가적으로 하면된다.\n",
        "## ++ 필요하면 하 면됨"
      ],
      "metadata": {
        "id": "a5F-Wm4NGfew"
      },
      "execution_count": null,
      "outputs": []
    }
  ]
}
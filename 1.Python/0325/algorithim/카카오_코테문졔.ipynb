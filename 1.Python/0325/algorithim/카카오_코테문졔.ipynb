{
 "cells": [
  {
   "cell_type": "code",
   "execution_count": null,
   "id": "initial_id",
   "metadata": {
    "collapsed": true
   },
   "outputs": [],
   "source": [
    "def solution(numbers, hand):\n",
    "    answer = ''\n",
    "    return = answer"
   ]
  },
  {
   "cell_type": "markdown",
   "source": [
    "큰 틀 : 누르라고 시킨 숫자들 돌려가면서 \n",
    "===> 어느 손으로 눌러야 할까요>\n",
    "\n",
    "for 눌러야 하는 숫자들\n",
    "    if 1,4,7 ==> 왼손\n",
    "    elif 3,6,9 ==> 오른손\n",
    "    elif 2,5,8,0 ==> 거리계산 !!\n",
    "                    if 거리가 다를 떄 : \n",
    "                    elif 거리가 같을 떄 : 어느 손잡이\n",
    "+++ 거리는 어쩔? 거리 구하는 것은 어떻게 할것인가?                      "
   ],
   "metadata": {
    "collapsed": false
   },
   "id": "e01708cdd969b552"
  }
 ],
 "metadata": {
  "kernelspec": {
   "display_name": "Python 3",
   "language": "python",
   "name": "python3"
  },
  "language_info": {
   "codemirror_mode": {
    "name": "ipython",
    "version": 2
   },
   "file_extension": ".py",
   "mimetype": "text/x-python",
   "name": "python",
   "nbconvert_exporter": "python",
   "pygments_lexer": "ipython2",
   "version": "2.7.6"
  }
 },
 "nbformat": 4,
 "nbformat_minor": 5
}

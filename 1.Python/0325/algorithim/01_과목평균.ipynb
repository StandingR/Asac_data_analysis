{
 "nbformat": 4,
 "nbformat_minor": 0,
 "metadata": {
  "colab": {
   "provenance": [],
   "authorship_tag": "ABX9TyM8GVWqXaXMo2XBL+FMnZxy"
  },
  "kernelspec": {
   "name": "python3",
   "language": "python",
   "display_name": "Python 3 (ipykernel)"
  },
  "language_info": {
   "name": "python"
  }
 },
 "cells": [
  {
   "cell_type": "markdown",
   "source": [
    "공부법!!! \n",
    "일단 문제 보고, 내가 할수있는 방법으로 코드를 작성해보기!!!!"
   ],
   "metadata": {
    "collapsed": false
   }
  },
  {
   "cell_type": "code",
   "execution_count": 1,
   "metadata": {
    "id": "EIgfqHLweqk8",
    "ExecuteTime": {
     "end_time": "2024-03-25T02:44:57.578065Z",
     "start_time": "2024-03-25T02:44:57.572977Z"
    }
   },
   "outputs": [],
   "source": [
    "# 문제) 국어 80점, 수학 75점, 영어 55점, 사회 90점\n",
    "# --> 이 학생의 평균을 구하는 코드를 작성하세요!!!"
   ]
  },
  {
   "cell_type": "code",
   "execution_count": 14,
   "outputs": [
    {
     "ename": "TypeError",
     "evalue": "unsupported operand type(s) for /: 'list' and 'int'",
     "output_type": "error",
     "traceback": [
      "\u001B[0;31m---------------------------------------------------------------------------\u001B[0m",
      "\u001B[0;31mTypeError\u001B[0m                                 Traceback (most recent call last)",
      "Cell \u001B[0;32mIn[14], line 8\u001B[0m\n\u001B[1;32m      3\u001B[0m social \u001B[38;5;241m=\u001B[39m \u001B[38;5;241m90\u001B[39m\n\u001B[1;32m      5\u001B[0m subjects \u001B[38;5;241m=\u001B[39m [korean, math, social]\n\u001B[0;32m----> 8\u001B[0m average \u001B[38;5;241m=\u001B[39m \u001B[43msubjects\u001B[49m\u001B[38;5;241;43m/\u001B[39;49m\u001B[38;5;28;43mlen\u001B[39;49m\u001B[43m(\u001B[49m\u001B[43msubjects\u001B[49m\u001B[43m)\u001B[49m\n\u001B[1;32m     10\u001B[0m \u001B[38;5;28mprint\u001B[39m(average)\n",
      "\u001B[0;31mTypeError\u001B[0m: unsupported operand type(s) for /: 'list' and 'int'"
     ]
    }
   ],
   "source": [
    "\n",
    "korean = 80\n",
    "math = 75\n",
    "social = 90\n",
    "\n",
    "subjects = [korean, math, social]\n",
    "\n",
    "\n",
    "average = subjects/len(subjects)\n",
    "\n",
    "print(average)"
   ],
   "metadata": {
    "collapsed": false,
    "ExecuteTime": {
     "end_time": "2024-03-25T03:03:08.647954Z",
     "start_time": "2024-03-25T03:03:08.574057Z"
    }
   }
  },
  {
   "cell_type": "code",
   "source": [
    "# 여러 스타일로 이 주어진 문제를 코드로 해결하세요!!!!!\n",
    "# 변수를 어떻게 할지, 자료형,,, 그들간의 관계......\n",
    "# 잡다한 기능, 수단 : 검색!"
   ],
   "metadata": {
    "id": "Szdvp9WyeuoM"
   },
   "execution_count": null,
   "outputs": []
  },
  {
   "cell_type": "code",
   "source": [
    "# 방법1) 각 과목별로 변수를 만들어서 꾸역꾸역!!!!!\n",
    "# 방법2) 점수들로 퉁 쳐서,,,하나의 변수로.. 리스트로...\n",
    "# 방법3) 기타 등등등..."
   ],
   "metadata": {
    "id": "RluR0y1yeuu-"
   },
   "execution_count": null,
   "outputs": []
  },
  {
   "cell_type": "code",
   "source": [
    "# 방법1) 꾸역꾸역...\n",
    "korean = 80\n",
    "math = 75\n",
    "english = 55\n",
    "social = 90\n",
    "# ---> 할 일은 : 4과목의 평균!!!!\n",
    "#      개별 성적은 잊어버리고,,,\n",
    "#      변수들끼리 무슨 관계!!!!!\n",
    "avg_score = ( korean + math + english+social) / 4\n",
    "print(avg_score)"
   ],
   "metadata": {
    "id": "zu4muFoyexhP"
   },
   "execution_count": null,
   "outputs": []
  },
  {
   "cell_type": "code",
   "source": [
    "# 방법2) 구체적인 과목명은 필요없으니,,,,필요한 점수들만 모을래!!!!!\n",
    "#    ---> 여러개의 값들이 되는데,,,파이썬의 여러 자료형 중..리스트(주관!!)\n",
    "zumsu_list = [ 80, 75, 55, 90]\n",
    "# 평균에 대한 것을 하려고 하니\n",
    "# 리스트의 값들의 합, 리스트의 원소의 갯수 --> 기능적인 부분!!!\n",
    "#  --> sum()함수,  len()함수\n",
    "avg_score = sum(zumsu_list) / len(zumsu_list)\n",
    "print(avg_score)"
   ],
   "metadata": {
    "id": "qNZatg49exjk"
   },
   "execution_count": null,
   "outputs": []
  },
  {
   "cell_type": "code",
   "source": [
    "# 방법3) 돌려서 기능적인 테스트용으로 해보겠습니다!!!!\n",
    "# --> sum, len 함수를 찾아서 구현을 했음!!!!\n",
    "#     코드가 간단함!!!!\n",
    "# --> 직접 구현을 해야하는 상황이라면,,,,,\n",
    "# --> 기본 상황 : 리스트로 세팅한 상태.\n",
    "zumsu_list = [ 80, 75, 55, 90]\n",
    "\n",
    "# 직접 하려고 하니 필요한 것이 : sum, len ---> 직접 돌려가면서,,,계산!!!!!\n",
    "# zumsu_list = [ 80, 75, 55, 90] 돌려야함!!!!! ==> for\n",
    "# 돌리면서 해야할 일 : 누적합/ 누적 카운팅\n",
    "# 필요한 변수를 만들자!!!!\n",
    "tot = 0 # 누적합을 기록할 용도의 변수\n",
    "cnt = 0 # 몇 개 원소를 처리했는지 모니터링 --> 전체 원소의 수\n",
    "\n",
    "for i in zumsu_list:\n",
    "    tot += i #tot = tot + i # 0 + 80 + 75 +55 + 90\n",
    "    cnt += 1 # cnt = cnt + 1 # 0 + 1  + 1  + 1 + 1\n",
    "avg_score = tot / cnt\n",
    "print(avg_score)"
   ],
   "metadata": {
    "id": "QU7bQc5RexmT"
   },
   "execution_count": null,
   "outputs": []
  },
  {
   "cell_type": "code",
   "source": [
    "### 코테를 하다보면,,,,, 카운팅!!!!!!!\n",
    "cnt = 0\n",
    "for i in a:\n",
    "    cnt += 1\n",
    "###### 제약조건이 있는 상태의 카운팅!!!!! --> 80점이상만,,,평균\n",
    "cnt = 0\n",
    "for i in a:\n",
    "    if 조건~~~~~~\n",
    "        cnt += 1\n"
   ],
   "metadata": {
    "id": "K7YjgGWAexo4"
   },
   "execution_count": null,
   "outputs": []
  },
  {
   "cell_type": "code",
   "source": [],
   "metadata": {
    "id": "vLq1IC6GexrN",
    "ExecuteTime": {
     "end_time": "2024-03-25T02:45:32.274898Z",
     "start_time": "2024-03-25T02:45:32.255215Z"
    }
   },
   "execution_count": 1,
   "outputs": []
  },
  {
   "cell_type": "code",
   "execution_count": 2,
   "outputs": [],
   "source": [
    "# 참고) 입력을 사람이 입력하도록 하자!!\n",
    "# 가변적인입력을 받을떄 파이썬은 input 함수 !!!\n",
    "# 입력 : 키보드 \n",
    "# 기능 : 키브드 입력값을 문자열\n",
    "# 출력 : 누른 키보드 값 문자열"
   ],
   "metadata": {
    "collapsed": false,
    "ExecuteTime": {
     "end_time": "2024-03-25T02:46:36.258489Z",
     "start_time": "2024-03-25T02:46:36.254581Z"
    }
   }
  },
  {
   "cell_type": "code",
   "execution_count": 4,
   "outputs": [
    {
     "data": {
      "text/plain": "'100'"
     },
     "execution_count": 4,
     "metadata": {},
     "output_type": "execute_result"
    }
   ],
   "source": [
    "a = input(\"성적을 입력하세요\")\n",
    "a"
   ],
   "metadata": {
    "collapsed": false,
    "ExecuteTime": {
     "end_time": "2024-03-25T02:47:14.902592Z",
     "start_time": "2024-03-25T02:47:12.902166Z"
    }
   }
  },
  {
   "cell_type": "code",
   "execution_count": 5,
   "outputs": [
    {
     "ename": "TypeError",
     "evalue": "can only concatenate str (not \"int\") to str",
     "output_type": "error",
     "traceback": [
      "\u001B[0;31m---------------------------------------------------------------------------\u001B[0m",
      "\u001B[0;31mTypeError\u001B[0m                                 Traceback (most recent call last)",
      "Cell \u001B[0;32mIn[5], line 1\u001B[0m\n\u001B[0;32m----> 1\u001B[0m \u001B[43ma\u001B[49m\u001B[43m \u001B[49m\u001B[38;5;241;43m+\u001B[39;49m\u001B[43m \u001B[49m\u001B[38;5;241;43m100\u001B[39;49m\n\u001B[1;32m      2\u001B[0m \u001B[38;5;66;03m# 주의 input 함수로 내가 키보드 숫자를 입력해도 inpuㅅ 함수는 \u001B[39;00m\n\u001B[1;32m      3\u001B[0m \u001B[38;5;66;03m# 문자열로 처리를 함 ===> 숫자적인 연산이 안됨\u001B[39;00m\n\u001B[1;32m      4\u001B[0m \u001B[38;5;66;03m# \u001B[39;00m\n",
      "\u001B[0;31mTypeError\u001B[0m: can only concatenate str (not \"int\") to str"
     ]
    }
   ],
   "source": [
    "a + 100\n",
    "# 주의 input 함수로 내가 키보드 숫자를 입력해도 inpuㅅ 함수는 \n",
    "# 문자열로 처리를 함 ===> 숫자적인 연산이 안됨\n",
    "# "
   ],
   "metadata": {
    "collapsed": false,
    "ExecuteTime": {
     "end_time": "2024-03-25T02:48:15.256742Z",
     "start_time": "2024-03-25T02:48:15.059353Z"
    }
   }
  },
  {
   "cell_type": "code",
   "execution_count": 6,
   "outputs": [
    {
     "data": {
      "text/plain": "110"
     },
     "execution_count": 6,
     "metadata": {},
     "output_type": "execute_result"
    }
   ],
   "source": [
    "int(a)+10"
   ],
   "metadata": {
    "collapsed": false,
    "ExecuteTime": {
     "end_time": "2024-03-25T02:48:24.387260Z",
     "start_time": "2024-03-25T02:48:24.355248Z"
    }
   }
  },
  {
   "cell_type": "code",
   "execution_count": 7,
   "outputs": [
    {
     "data": {
      "text/plain": "110.0"
     },
     "execution_count": 7,
     "metadata": {},
     "output_type": "execute_result"
    }
   ],
   "source": [
    "float(a)+10"
   ],
   "metadata": {
    "collapsed": false,
    "ExecuteTime": {
     "end_time": "2024-03-25T02:48:31.648897Z",
     "start_time": "2024-03-25T02:48:31.631432Z"
    }
   }
  },
  {
   "cell_type": "code",
   "execution_count": 9,
   "outputs": [
    {
     "name": "stdout",
     "output_type": "stream",
     "text": [
      "25.0\n"
     ]
    }
   ],
   "source": [
    "# 방범 1 에대해 대한 수정 ==> 형변환에 대한 주의 ===> input은 문자열로 처리\n",
    "korean = int(input(\"국어점수입력하세요....\"))\n",
    "math = int(input(\"수학점수입력하세요....\"))\n",
    "english = int(input(\"영어점수입력하세요....\"))\n",
    "social = int(input(\"사회점수입력하세요....\"))\n",
    "\n",
    "# ---> 할 일은 : 4과목의 평균!!!!\n",
    "#      개별 성적은 잊어버리고,,,\n",
    "#      변수들끼리 무슨 관계!!!!!\n",
    "avg_score = ( korean + math + english+social) / 4\n",
    "print(avg_score)"
   ],
   "metadata": {
    "collapsed": false,
    "ExecuteTime": {
     "end_time": "2024-03-25T02:51:06.301858Z",
     "start_time": "2024-03-25T02:51:03.604539Z"
    }
   }
  },
  {
   "cell_type": "code",
   "execution_count": 10,
   "outputs": [
    {
     "ename": "ValueError",
     "evalue": "invalid literal for int() with base 10: '국어점수입력하세요'",
     "output_type": "error",
     "traceback": [
      "\u001B[0;31m---------------------------------------------------------------------------\u001B[0m",
      "\u001B[0;31mValueError\u001B[0m                                Traceback (most recent call last)",
      "Cell \u001B[0;32mIn[10], line 5\u001B[0m\n\u001B[1;32m      1\u001B[0m \u001B[38;5;66;03m# 방법2에 대한 가변적인입력\u001B[39;00m\n\u001B[1;32m      2\u001B[0m \u001B[38;5;66;03m# 코드를 기능 중심으로 덩어리로 인식\u001B[39;00m\n\u001B[1;32m      3\u001B[0m \u001B[38;5;66;03m#    ---> 여러개의 값들이 되는데,,,파이썬의 여러 자료형 중..리스트(주관!!)\u001B[39;00m\n\u001B[1;32m      4\u001B[0m zumsu_list \u001B[38;5;241m=\u001B[39m []\n\u001B[0;32m----> 5\u001B[0m zumsu_list\u001B[38;5;241m.\u001B[39mappend(\u001B[38;5;28;43mint\u001B[39;49m\u001B[43m(\u001B[49m\u001B[38;5;124;43m\"\u001B[39;49m\u001B[38;5;124;43m국어점수입력하세요\u001B[39;49m\u001B[38;5;124;43m\"\u001B[39;49m\u001B[43m)\u001B[49m)\n\u001B[1;32m      6\u001B[0m zumsu_list\u001B[38;5;241m.\u001B[39mappend(\u001B[38;5;28mint\u001B[39m(\u001B[38;5;124m\"\u001B[39m\u001B[38;5;124m수학점수입력하세요\u001B[39m\u001B[38;5;124m\"\u001B[39m))\n\u001B[1;32m      7\u001B[0m zumsu_list\u001B[38;5;241m.\u001B[39mappend(\u001B[38;5;28mint\u001B[39m(\u001B[38;5;124m\"\u001B[39m\u001B[38;5;124m사회점수입력하세요\u001B[39m\u001B[38;5;124m\"\u001B[39m))\n",
      "\u001B[0;31mValueError\u001B[0m: invalid literal for int() with base 10: '국어점수입력하세요'"
     ]
    }
   ],
   "source": [
    "# 방법2에 대한 가변적인입력\n",
    "# 코드를 기능 중심으로 덩어리로 인식\n",
    "#    ---> 여러개의 값들이 되는데,,,파이썬의 여러 자료형 중..리스트(주관!!)\n",
    "zumsu_list = []\n",
    "zumsu_list.append(int(input(\"국어점수입력하세요\")))\n",
    "zumsu_list.append(int(input(\"수학점수입력하세요\")))\n",
    "zumsu_list.append(int(input(\"사회점수입력하세요\")))\n",
    "zumsu_list.append(int(input(\"영어점수입력하세요\")))\n",
    "# 평균에 대한 것을 하려고 하니\n",
    "# 리스트의 값들의 합, 리스트의 원소의 갯수 --> 기능적인 부분!!!\n",
    "#  --> sum()함수,  len()함수\n",
    "\n",
    "avg_score = sum(zumsu_list) / len(zumsu_list)\n",
    "print(avg_score)"
   ],
   "metadata": {
    "collapsed": false,
    "ExecuteTime": {
     "end_time": "2024-03-25T02:53:01.499576Z",
     "start_time": "2024-03-25T02:53:01.461784Z"
    }
   }
  },
  {
   "cell_type": "code",
   "execution_count": 11,
   "outputs": [],
   "source": [
    "# 그래서 과목이 늘어나면?\n",
    "# ctrl +c/v 고정적인 부분 / 가변적인 부분\n",
    "# 가변적인 직접 하드 코딩을 해여함\n",
    "# 가변적인 부분 : 과목명\n",
    "# 고정적인 부분 : ~~.append(int~~~\"입력하세요\"..)"
   ],
   "metadata": {
    "collapsed": false,
    "ExecuteTime": {
     "end_time": "2024-03-25T02:55:37.044559Z",
     "start_time": "2024-03-25T02:55:37.020928Z"
    }
   }
  },
  {
   "cell_type": "code",
   "execution_count": 13,
   "outputs": [
    {
     "name": "stdout",
     "output_type": "stream",
     "text": [
      "40.0\n"
     ]
    }
   ],
   "source": [
    "subjects = [\"국어\",\"영어\",\"수학\",\"사회\",\"과학\",\"음악\",\"미술\"]\n",
    "subjects\n",
    "\n",
    "zum_list = []\n",
    "for sub in subjects:\n",
    "    txt = sub + \"점수 입력하세요!!!\"\n",
    "    zumsu_list.append(int(input(txt)))   \n",
    "   # print(txt)\n",
    "\"\"\"zumsu_list = []\n",
    "zumsu_list.append(int(input(\"국어점수입력하세요\")))\n",
    "zumsu_list.append(int(input(\"수학점수입력하세요\")))\n",
    "zumsu_list.append(int(input(\"사회점수입력하세요\")))\n",
    "zumsu_list.append(int(input(\"영어점수입력하세요\")))\n",
    "# 평균에 대한 것을 하려고 하니\n",
    "# 리스트의 값들의 합, 리스트의 원소의 갯수 --> 기능적인 부분!!!\n",
    "#  --> sum()함수,  len()함수\n",
    "\"\"\"\n",
    "avg_score = sum(zumsu_list) / len(zumsu_list)\n",
    "print(avg_score)    "
   ],
   "metadata": {
    "collapsed": false,
    "ExecuteTime": {
     "end_time": "2024-03-25T02:58:47.809211Z",
     "start_time": "2024-03-25T02:58:42.591551Z"
    }
   }
  },
  {
   "cell_type": "code",
   "execution_count": 15,
   "outputs": [],
   "source": [],
   "metadata": {
    "collapsed": false,
    "ExecuteTime": {
     "end_time": "2024-03-25T06:04:00.367772Z",
     "start_time": "2024-03-25T06:04:00.346579Z"
    }
   }
  },
  {
   "cell_type": "code",
   "execution_count": 16,
   "outputs": [],
   "source": [],
   "metadata": {
    "collapsed": false,
    "ExecuteTime": {
     "end_time": "2024-03-25T06:04:02.944921Z",
     "start_time": "2024-03-25T06:04:02.921347Z"
    }
   }
  },
  {
   "cell_type": "code",
   "execution_count": null,
   "outputs": [],
   "source": [],
   "metadata": {
    "collapsed": false
   }
  }
 ]
}

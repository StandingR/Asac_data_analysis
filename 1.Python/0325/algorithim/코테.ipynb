{
 "cells": [
  {
   "cell_type": "code",
   "execution_count": 1,
   "id": "initial_id",
   "metadata": {
    "collapsed": true,
    "ExecuteTime": {
     "end_time": "2024-03-25T06:10:18.848578Z",
     "start_time": "2024-03-25T06:10:18.837495Z"
    }
   },
   "outputs": [],
   "source": [
    "# 코테 관련되어서..\n",
    "# ==> 100 점을 요구하는 경기가 아님!!! 기준점만 넘으면 되는 경기\n",
    "# 1. 최근의 문제 경행은 거의 지저분하게 여러 케이스들을 복잡하게 꼬아둠!!!\n",
    "# ==> 문제 분석을 정확히 하고 접근\n",
    "# ==> 일반적으로 빨리 잘 꼼꼼히 하는 친구들을 필터링을 하고 싶은...\n",
    "# ===> 빠르게 잘 꼼꼼히가 중요!!\n",
    "\n",
    "# 2. 여러 문제 중에서 일단 할 수 있는거 부터 해결!!1\n",
    "# ==> 1번 부터가 아니라 내가 쉬운거 부터!!1\n",
    "# ==> 시간 분배를 신경 써야함!!\n",
    "\n",
    "# 3. 기본 문제들에 대한 정리, 어떤 응용, 어떤 분야의 문제인지 감을 빨리 체크!!1\n",
    "# ==> 문제 출제 의도. 출제 범위에 대한 빠른 파익!!!\n",
    "# ==> 여러 분제를 달달 해야함!!!\n",
    "\n",
    "# 4. 일반적으로 앞의 문제들이 쉬워요!1\n",
    "# ==> 특별한 알고리즘을 안 쓰는 문제들은 정답률이 높음!!\n",
    "# ==> 특별한 알고리즘 // 그냥 꾸역꾸역 하는 문제\n",
    "# ==> 킬러 : 탐색/ 최단거리 (여기까지 중요)/ 동적 프로그램(버리지뭐...) 등  지식적인 부분 !!!\n",
    "# ******* 제일 중요 : 문제 분석 !!! *********\n",
    "# 순부터 가면 안 되고, 문제가 머리속에 정리가 되면 그떄 손 !!\n",
    "# 잡다한 기능들은 찾아보면 됨!!!!!!!!1"
   ]
  },
  {
   "cell_type": "code",
   "execution_count": 2,
   "outputs": [],
   "source": [
    "# 공부하는 입장\n",
    "# 1. 기본 유형 / 주제들은 무조건 정확하게 정리!!!!\n",
    "#   ----? 머리로 이해 + 그냥 손이 바로 나갈 정도로 달달달!!!\n",
    "\n",
    "# 2 다른 사람들의 정답들을 검색하면서....\n",
    "# 내가 편한 스타일의 정답을 골라서 본인만의 마스터 정답을 정리 !!!\n",
    "# ==> 본인 코드 작성 스타일이나 코드 작성 관련된 부분이 정립!!!\n",
    "#\n",
    "# 3. 기본 유형의 문제, 잡다한 여러 유형의 문제 주어진 상황 내에서 풀기 !!!!1\n",
    "#\n",
    "#\n",
    "# 4. 실제 보는 회사의 기출 문제 스타일로 접근....\n",
    "#\n",
    "#\n",
    "# 참고_ 카카오 문제를 많이 하는 이유 : 제일 난도가 높은 편 !\n",
    "#     ---> 정답률도 공개, 출제 의도 , 응사자들의 접근 들\n",
    "#     ---> 프로그래머스 사이트에서 바로 확인할 수 있음!"
   ],
   "metadata": {
    "collapsed": false,
    "ExecuteTime": {
     "end_time": "2024-03-25T06:10:44.856242Z",
     "start_time": "2024-03-25T06:10:44.843004Z"
    }
   },
   "id": "f601e8f4d105e7b8"
  },
  {
   "cell_type": "markdown",
   "source": [
    "# 코테 연습 플랫폼\n",
    "# 국내 전통적인 플랫폼 : 백쥰 ----> 입력부분도 다 만들어야 함!!!\n",
    "#                   함수로 안 해도 줄 코드를 해도 됨!!!\n",
    "# 국내 신규 플랫폼 : 프로그래머스 ===> 입력에 댛나 부분은 신경 x\n",
    "#               입력 인자들로 들어옴\n",
    "#               구성을 함수로 만들어야함\n",
    "#                return에 최종제출양식으로 제출하면 됨!\n",
    "# 해외 유명 플랫폼 : LeetCode( 알고리즘 대회 )\n",
    "#               --> 오래된 사이트 , 세계적\n",
    "#               ---> 코드의 효율성이 엄청 중요함!!\n",
    "#               --> 클래스로 제출을 해야함!!\n",
    "#               --> 취업용으로는 좀 과함\n",
    "# +++ 주된 주제별로 접근! "
   ],
   "metadata": {
    "collapsed": false
   },
   "id": "d48bb0ed0d959ed1"
  },
  {
   "cell_type": "markdown",
   "source": [],
   "metadata": {
    "collapsed": false
   },
   "id": "426238c829ed8fce"
  },
  {
   "cell_type": "markdown",
   "source": [
    "# 상하좌우"
   ],
   "metadata": {
    "collapsed": false
   },
   "id": "6b82a6351c9d21ee"
  },
  {
   "cell_type": "code",
   "execution_count": 8,
   "outputs": [
    {
     "name": "stdout",
     "output_type": "stream",
     "text": [
      "이동불가\n"
     ]
    }
   ],
   "source": [
    "\n",
    "start_point = [1,1]\n",
    "\n",
    "#print(start_point)\n",
    "#print(start_point[0])\n",
    "#print(start_point[1])\n",
    "x = int(input())\n",
    "y = int(input())\n",
    "\n",
    "\n",
    "\n",
    "#위 아래\n",
    "#  out range\n",
    "if (start_point[0] > 1) and (start_point < 100) and (start_point[1] < 1) and (start_point[1] > 100):\n",
    "    print(\"이동\")\n",
    "else : \n",
    "    print(\"이동불가\")"
   ],
   "metadata": {
    "collapsed": false,
    "ExecuteTime": {
     "end_time": "2024-03-25T06:41:41.147744Z",
     "start_time": "2024-03-25T06:41:32.513007Z"
    }
   },
   "id": "63cf2cad6b59fc5a"
  },
  {
   "cell_type": "code",
   "execution_count": null,
   "outputs": [],
   "source": [],
   "metadata": {
    "collapsed": false
   },
   "id": "f4d0e311be652b41"
  }
 ],
 "metadata": {
  "kernelspec": {
   "display_name": "Python 3",
   "language": "python",
   "name": "python3"
  },
  "language_info": {
   "codemirror_mode": {
    "name": "ipython",
    "version": 2
   },
   "file_extension": ".py",
   "mimetype": "text/x-python",
   "name": "python",
   "nbconvert_exporter": "python",
   "pygments_lexer": "ipython2",
   "version": "2.7.6"
  }
 },
 "nbformat": 4,
 "nbformat_minor": 5
}

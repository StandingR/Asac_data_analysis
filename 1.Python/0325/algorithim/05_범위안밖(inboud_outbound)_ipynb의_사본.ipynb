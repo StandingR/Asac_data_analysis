{
  "nbformat": 4,
  "nbformat_minor": 0,
  "metadata": {
    "colab": {
      "provenance": []
    },
    "kernelspec": {
      "name": "python3",
      "display_name": "Python 3"
    },
    "language_info": {
      "name": "python"
    }
  },
  "cells": [
    {
      "cell_type": "code",
      "execution_count": null,
      "metadata": {
        "id": "FOlHJwkBHBBB"
      },
      "outputs": [],
      "source": [
        "# 문제) 한 점을 구성하는 x,y의 좌표를 입력을 받아서\n",
        "#       이 점의 좌표가 (50,40), ( 50,80), (100,40), (100,80)을 꼭지점으로 하는\n",
        "#       사각형 내부에 있는지, 외부에 있는지 판별하세요!!!!\n",
        "\n",
        "# 의도) 이 가장 기본 중에 기본 문제가 어떻게 코테 문제로 확장이 되는지...\n",
        "#       가장 첫 단계!!!"
      ]
    },
    {
      "cell_type": "code",
      "source": [],
      "metadata": {
        "id": "xbvTEI_IHXvb"
      },
      "execution_count": null,
      "outputs": []
    },
    {
      "cell_type": "code",
      "source": [
        "# sol)\n",
        "# 1) 입력 :사용자한테 좌표값을 입력을 받아야 함!!(예외처리생략)\n",
        "x = int(input(\"x좌표 입력하세요.\"))\n",
        "y = int(input(\"y좌표 입력하세요.\"))\n",
        "\n",
        "# 2) 범위에 대한 지정 : x범위를 and, y범위를 and로 하겠음!!!(경우에 따라서 or)\n",
        "#    --> 범위 지정에 대한 타입은 : 부등식을 사용하려고 함!!!\n",
        "#        단, 부등식은 대상이 숫자형식이여야 함!!!\n",
        "#  저는 여기서는 안쪽 기준으로 중심으로 작성 and 하겠음!!!\n",
        "if ( x >50 and x < 100 ) and ( y >40 and y < 80 ):\n",
        "    print(\"사각형 안 쪽입니다!!!!\")\n",
        "else:\n",
        "    print(\"사각형 밖입니다!!!경계선도 포함\")"
      ],
      "metadata": {
        "colab": {
          "base_uri": "https://localhost:8080/"
        },
        "id": "pHHhousCHXx_",
        "outputId": "1d0aa1a2-d2df-497b-fdf5-805f2070d878"
      },
      "execution_count": null,
      "outputs": [
        {
          "output_type": "stream",
          "name": "stdout",
          "text": [
            "x좌표 입력하세요.60\n",
            "y좌표 입력하세요.100\n",
            "사각형 밖입니다!!!경계선도 포함\n"
          ]
        }
      ]
    },
    {
      "cell_type": "code",
      "source": [
        "# 정리) 범위에 안쪽. 밖의 표현 : 부등식으로 활용!!!!! <-- 수치형타입!!!\n",
        "#       평면상에서 표시 2D     : 좌표값들 이용하면 표시가 용이할 듯!!"
      ],
      "metadata": {
        "id": "In-SVJquHX0l"
      },
      "execution_count": null,
      "outputs": []
    },
    {
      "cell_type": "code",
      "source": [
        "# 참고) https://painted-starfish-9d5.notion.site/aeb1420e57814e6eb8735eed001ac120#151fcd41c3bf4a1f8ffa183d0922387c"
      ],
      "metadata": {
        "id": "q6FF9tQFK2cf"
      },
      "execution_count": null,
      "outputs": []
    },
    {
      "cell_type": "code",
      "source": [],
      "metadata": {
        "id": "HKiAV3IZK2fL"
      },
      "execution_count": null,
      "outputs": []
    },
    {
      "cell_type": "code",
      "source": [
        "# 코테관련되어서....\n",
        "# ==> 100점을 요구하는 경기가 아님!!!! 기준점만 넘으면 되는 경기!!!\n",
        "# 1. 최근의 문제 경향은 거의 지저분하게 여러 케이스들을 복잡하게 꼬아둠!!!\n",
        "#    ==> 문제 분석을 정확히 하고 접근.\n",
        "#    --> 일반적으로 빨리 잘 꼼꼼히 하는 친구들을 필터링을 하고 싶은...\n",
        "#    --> 빠르게 잘 꼼꼼히가 중요!!!!!\n",
        "# 2. 여러 문제 중에서 일단 할 수 있는거 부터 해결!!!\n",
        "#    --> 1번 부터가 아니라 내가 쉬운거 부터!!!\n",
        "#    --> 시간 분배를 신경 써야 함!!!\n",
        "# 3. 기본 문제들에 대한 정리, 어떤 응용, 어떤 분야의 문제인지 감을 빨리 체크!!!\n",
        "#    ==> 문제의 출제 의도/ 출제 범위에 대한 빠른 파악!!!\n",
        "#    ==> 여러 문제를 달달달 해야함!!!\n",
        "# 4. 일반적으로 앞의 문제들이 쉬워요!!!\n",
        "#    ==> 특별한 알고리즘을 안 쓰는 문제들은 정답률이 높음!!!!\n",
        "#    ==> 특별한 알고리즘 // 그냥 꾸역꾸역 하는 문제\n",
        "#    ==> 킬러 : 탐색/최단거리/동적프로그램(버리지뭐...) 등 지식적인 부분!!!!\n",
        "\n",
        "# ******* 제일 중요 : 문제 분석!!!! ******\n",
        "# 손부터 가면 안 되고, 문제가 머리속에 정리가 되면 그 때 손!!!!\n",
        "# 잡다한 기능들은 찾아보면 됨!!!"
      ],
      "metadata": {
        "id": "3DPgl0JZK2iA"
      },
      "execution_count": null,
      "outputs": []
    },
    {
      "cell_type": "code",
      "source": [],
      "metadata": {
        "id": "cjq4V7E1NVoW"
      },
      "execution_count": null,
      "outputs": []
    },
    {
      "cell_type": "code",
      "source": [
        "# 공부하는 입장\n",
        "# 1. 기본 유형 / 주제들은 무조건 정확하게 정리!!!\n",
        "#    --> 머리로 이해 + 그냥 손이 바로 나갈 정도로 달달달!!!!\n",
        "# 2. 다른 사람들의 정답들을 검색하면서,,,\n",
        "#    내가 편한 스타일의 정답을 골라서 본인만의 마스터정답을 정리!!!!!\n",
        "#    ==> 본인 코드 작성 스타일이나 코드 작성 관련된 부분이 정립!!!!!\n",
        "# 3. 기본 유형의 문제, 잡다한 여러 유형의 문제 주어진 상황 내에서 풀기!!!!\n",
        "# 4. 실제 보는 회사의 기출 문제 스타일로 접근...\n",
        "\n",
        "#### 제일 중요 : 매일 꾸준히!!!!!! --> 파이썬 실력도 올라감!!!\n",
        "#         ==> 스터디 같은 것도 추천!!!!\n",
        "\n",
        "# 참고) 카카오문제를 많이 하는 이유 : 제일 난도가 높은 편!\n",
        "#       --> 정답률도 공개, 출제 의도, 응시자들의 접근 들\n",
        "#       ==> 프로그래머스 사이트에서 바로 확인할 수 있음!!"
      ],
      "metadata": {
        "id": "XIlm_5P0NVrY"
      },
      "execution_count": null,
      "outputs": []
    },
    {
      "cell_type": "code",
      "source": [],
      "metadata": {
        "id": "KwW-Ek2jWmWM"
      },
      "execution_count": null,
      "outputs": []
    },
    {
      "cell_type": "code",
      "source": [
        "# 코테 연습 플랫폼\n",
        "# 국내 전통적인 플랫폼 : 백준 --> 입력부분도 다 만들어야 함!!!\n",
        "#                                 함수로 안 해도 줄 코드롤 해도 됨!!!\n",
        "# 국내 신규 플랫폼     : 프로그래머스 --> 입력에 대한 부분은 신경X\n",
        "#                                  입력 인자들로 들어옴!!!\n",
        "#                                  구성을 함수로 만들어야 함!!!!\n",
        "#                                   return에 최종 제출양식으로 제출하면 됨!!!\n",
        "# 해외 유명 플랫폼     : LeetCode ( 알고리즘 대회 )\n",
        "#                             --> 오래된 사이트, 세계적\n",
        "#                             --> 코드의 효율성이 엄청 중요함!!!!\n",
        "#                             --> 클래스로 제출을 해야 함!!!\n",
        "#                             --> 취업용으로는 좀 과함;;;\n",
        "# +++ 주된 주제별로 접근!!!!!!!!!"
      ],
      "metadata": {
        "id": "KxwaXPPcWmsj"
      },
      "execution_count": null,
      "outputs": []
    }
  ]
}
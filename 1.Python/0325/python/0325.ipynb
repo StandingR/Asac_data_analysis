{
 "cells": [
  {
   "cell_type": "markdown",
   "source": [],
   "metadata": {
    "collapsed": false
   },
   "id": "185cead35de0fb80"
  },
  {
   "cell_type": "code",
   "execution_count": 1,
   "id": "initial_id",
   "metadata": {
    "collapsed": true,
    "ExecuteTime": {
     "end_time": "2024-03-25T00:18:13.049789Z",
     "start_time": "2024-03-25T00:18:13.047438Z"
    }
   },
   "outputs": [],
   "source": [
    "## 파이썬에 대해서 기본적인 자료형 / 반복문에 대해서 정리\n",
    "\n",
    "# 변수 : \"어떠한 값/ 대상들을 연결할지!!!\n",
    "# -> 값을 할당 / 연결 연산자 : (=)\n",
    "\n",
    "# 값 : 1개의 값 vs  여러개의 값\n",
    "# case1) 1개의 값 파이썬이 만들어 둔 자료형\n",
    "#           숫자 : 정수, 실수 , 부호. 복소수등....\n",
    "#               기본적인 파이썬의 자료형이 불편해서 만든 여러 패키지\n",
    "#               수치연산을 파이썬으로 하려고 하니 : numpy etc\n",
    "#           논리값 : True, False\n",
    "#           문지 : 'a', \"a\", '''a''', \"\"\"a\"\"\"\n",
    "#case2) 여러개의 값 나타내는 자료형\n",
    "#        리스트 : [값, 값, 값,,,,,,,,,,,] ==> 추가, 제거\n",
    "#        튶,ㄹ : (값, 값, 값,,,,,,)      ==> 추가x, 제거 x: 조작 불가능\n",
    "#                                    ===> 함수의 결과값들에 대해서 나타낼떄,\n",
    "#        \n",
    "#        리스트/ 튜플에 개별 값 접근 : 몇 번쨰 ==> 정수 인덱스[정수값], 기준이 되는값\n",
    "#                               0, 양수 ---> 순방향\n",
    "#                                  음수 ----> 역방향\n",
    "#                                   슬라이싱(여러개 규칙)     \n",
    "#        집합  : {값, 값, 값} ====> 수학적인 집합\n",
    "#        {1,1,1,2,2,2,2,,} 수학적인 집합인 {1,2}\n",
    "#       # 데이터분석, 프로젝트할 떄는 거의 사용을 안할듯!\n",
    "#         + 코테를 할떄에는 잘 선택하면 편한 부분이 있음!!( 유니크한 값에 대한 처리)\n"
   ]
  },
  {
   "cell_type": "code",
   "execution_count": 2,
   "outputs": [],
   "source": [
    "#               DICT 미니 데이터 베이스 (학번(고유값) 하고 이름(중복도 가능)이 같이있는 출석부)\n",
    "#                : {키1 : 값1, 키2 : 값2...}\n",
    "#                 ---> 특징 : 값에 접근할떄 키값을 중심으로 접근!!!\n",
    "#                 ---> dict, items() 키, 값 분리해서 한번에 사용 가능!!!\n",
    "#                   (리스트에서는 enumerate(list) : 정수값 인덕스, 값 분리)\n",
    "#                     \"hello"
   ],
   "metadata": {
    "collapsed": false,
    "ExecuteTime": {
     "end_time": "2024-03-25T00:22:42.617408Z",
     "start_time": "2024-03-25T00:22:42.604754Z"
    }
   },
   "id": "4028460ee4026db0"
  },
  {
   "cell_type": "code",
   "execution_count": 4,
   "outputs": [],
   "source": [
    "# 골격 : 반복문 / 제어문 \n",
    "# 1) 제이문 : if ~~~~elif ~~~~~elif ...else\n",
    "#       이분법적으로 갈라줘야 하기에 조건을 명확하게 설정\n",
    "#       else 에 대해서 특별하게 할 일이 없을 떄 pass 구문적인 상관관계\n",
    "#\n",
    "# 2) 반복문 : for , while \n",
    "#           데이터분석에서는 주로 for문을 사용함\n",
    "#           while문 기본적인 코테에서 자주 사용이됨!! 탐색/// 최단거리등\n",
    "#           for : 딱 주어진 값들을 롤링해준다\n",
    "#           for : 대표문자들 in 여러개의 값( 리스트 , 튜풀, dict) [lierator 한 형식]\n",
    "#           while 조건이 만족할 떄 까지 주구 장창\n",
    "#           탈출 조건에 대한 설계 \n",
    "#        +++ 필요한 숫자가 여러개/ 규칙적인경우 range (시작 , 끝점, 간격)\n",
    "#\n",
    "#\n",
    "#\n",
    "#\n",
    "#\n",
    "#"
   ],
   "metadata": {
    "collapsed": false,
    "ExecuteTime": {
     "end_time": "2024-03-25T00:23:27.927529Z",
     "start_time": "2024-03-25T00:23:27.926124Z"
    }
   },
   "id": "49749d32a6640b85"
  },
  {
   "cell_type": "code",
   "execution_count": 11,
   "outputs": [
    {
     "name": "stdout",
     "output_type": "stream",
     "text": [
      "a\n",
      "b\n",
      "c\n",
      "d\n",
      "e\n",
      "f\n",
      "g\n",
      "c\n",
      "i\n"
     ]
    }
   ],
   "source": [
    "## 연습문제\n",
    "#1)\n",
    "a = [\"a\", \"b\", \"c\",\"d\", \"e\", \"f\",\"g\", \"c\", \"i\"]\n",
    "# c만제거 \n",
    "b = [\"a\", \"b\", \"c\",\"d\", \"e\", \"f\",\"g\",\"i\"]\n",
    "\n",
    "# 시도1) a의 원소 직접 돌려가면서\n",
    "for x in a:\n",
    "    print(x)\n",
    "\n",
    "\n",
    "\n",
    "# 시도 2) a의 정수 인덱스를 만들어서 돌려가는 방법\n",
    "# a의 값들을 돌려가면서 (for) c인지 체크(if)"
   ],
   "metadata": {
    "collapsed": false,
    "ExecuteTime": {
     "end_time": "2024-03-25T00:35:58.083038Z",
     "start_time": "2024-03-25T00:35:58.071090Z"
    }
   },
   "id": "a7bfee4c89407901"
  },
  {
   "cell_type": "code",
   "execution_count": 8,
   "outputs": [
    {
     "ename": "SyntaxError",
     "evalue": "invalid syntax (1747827825.py, line 1)",
     "output_type": "error",
     "traceback": [
      "\u001B[0;36m  Cell \u001B[0;32mIn[8], line 1\u001B[0;36m\u001B[0m\n\u001B[0;31m    for x in a\u001B[0m\n\u001B[0m              ^\u001B[0m\n\u001B[0;31mSyntaxError\u001B[0m\u001B[0;31m:\u001B[0m invalid syntax\n"
     ]
    }
   ],
   "source": [
    "for x in a:\n",
    "    print(a) # adml x번쨰 값 "
   ],
   "metadata": {
    "collapsed": false,
    "ExecuteTime": {
     "end_time": "2024-03-25T00:33:04.939168Z",
     "start_time": "2024-03-25T00:33:04.929082Z"
    }
   },
   "id": "808c0823766f6f4a"
  },
  {
   "cell_type": "code",
   "execution_count": 10,
   "outputs": [
    {
     "name": "stdout",
     "output_type": "stream",
     "text": [
      "0\n",
      "1\n",
      "2\n",
      "3\n",
      "4\n",
      "5\n",
      "6\n",
      "7\n",
      "8\n"
     ]
    }
   ],
   "source": [
    "# 참고) 파이썬의 len 함수 =====> 여러 원소들의 갯수를 세주는 기능!!\n",
    "len(a)\n",
    "# ----> 012345678 === 정수값\n",
    "\n",
    "for i in range(0, len(a), 1):\n",
    "    print(i)\n",
    "    print(a[i]) # a의 i번쨰 위치의값"
   ],
   "metadata": {
    "collapsed": false,
    "ExecuteTime": {
     "end_time": "2024-03-25T00:34:27.638344Z",
     "start_time": "2024-03-25T00:34:27.633275Z"
    }
   },
   "id": "7b70b3e20de1a2a8"
  },
  {
   "cell_type": "code",
   "execution_count": 20,
   "outputs": [
    {
     "name": "stdout",
     "output_type": "stream",
     "text": [
      "['a', 'b', 'd', 'e', 'f', 'g']\n"
     ]
    }
   ],
   "source": [
    "# 방법 1 시도 : 값 자체로 롤링 \n",
    "# c의 값하고 다를 떄만..... 새로운 b에다 추가!!!\n",
    "\n",
    "b = []\n",
    "for i in a:\n",
    "    if i != \"c\":\n",
    "      b.append(i) \n",
    "    else : # 원소의 값의 값이 c인경우\n",
    "        pass\n",
    "\n",
    "print(b)    "
   ],
   "metadata": {
    "collapsed": false,
    "ExecuteTime": {
     "end_time": "2024-03-25T00:44:30.909639Z",
     "start_time": "2024-03-25T00:44:30.905035Z"
    }
   },
   "id": "aa2c039c5d71753a"
  },
  {
   "cell_type": "code",
   "execution_count": 22,
   "outputs": [
    {
     "ename": "IndentationError",
     "evalue": "unindent does not match any outer indentation level (<tokenize>, line 11)",
     "output_type": "error",
     "traceback": [
      "\u001B[0;36m  File \u001B[0;32m<tokenize>:11\u001B[0;36m\u001B[0m\n\u001B[0;31m    print(b)\u001B[0m\n\u001B[0m    ^\u001B[0m\n\u001B[0;31mIndentationError\u001B[0m\u001B[0;31m:\u001B[0m unindent does not match any outer indentation level\n"
     ]
    }
   ],
   "source": [
    "# 방법 2 시도 : 개별 값 전을 위한 필요한 인덱스로 롤링\n",
    "#for i in range(0, len(a), 1):\n",
    "\n",
    "b = []\n",
    "for i in range(len(a)):\n",
    "    #print(a[i]) # a의 i번쨰 위치의값\n",
    "    if a[i] != \"c\":\n",
    "        b.append(a[i])\n",
    "    else:\n",
    "        pass\n",
    "    \n",
    " print(b)   "
   ],
   "metadata": {
    "collapsed": false,
    "ExecuteTime": {
     "end_time": "2024-03-25T00:46:33.369098Z",
     "start_time": "2024-03-25T00:46:33.360481Z"
    }
   },
   "id": "c6c4aeecb893beff"
  },
  {
   "cell_type": "code",
   "execution_count": 23,
   "outputs": [
    {
     "name": "stdout",
     "output_type": "stream",
     "text": [
      "['a', 'b', 'd', 'e', 'f', 'g']\n"
     ]
    }
   ],
   "source": [
    "# 참고\n",
    "\n",
    "b = [] \n",
    "for i in a:\n",
    "    if i == \"c\": # 조건이 내가 하고자하는 것들인데 ... 거기서 pass????\n",
    "    # 조건을 할 떄에는 명확하게 대소문, 공백문자\n",
    "        pass\n",
    "    else:\n",
    "        b.append(i)\n",
    "print(b)"
   ],
   "metadata": {
    "collapsed": false,
    "ExecuteTime": {
     "end_time": "2024-03-25T00:48:42.602314Z",
     "start_time": "2024-03-25T00:48:42.571089Z"
    }
   },
   "id": "4c311f04153e9146"
  },
  {
   "cell_type": "code",
   "execution_count": 25,
   "outputs": [
    {
     "name": "stdout",
     "output_type": "stream",
     "text": [
      "0\n",
      "a\n",
      "1\n",
      "b\n",
      "2\n",
      "d\n",
      "3\n",
      "e\n",
      "4\n",
      "f\n",
      "5\n",
      "g\n",
      "6\n",
      "c\n"
     ]
    }
   ],
   "source": [
    "# + 정수값/ 실제값 같이 : 리스트 ----> enuerate()\n",
    "for i in enumerate(a): # [(0,1),(1,b),(2,c)]\n",
    "    print(i[0])\n",
    "    print(i[1])"
   ],
   "metadata": {
    "collapsed": false,
    "ExecuteTime": {
     "end_time": "2024-03-25T00:50:07.475053Z",
     "start_time": "2024-03-25T00:50:07.463724Z"
    }
   },
   "id": "2fde57306f747dfa"
  },
  {
   "cell_type": "code",
   "execution_count": 26,
   "outputs": [
    {
     "name": "stdout",
     "output_type": "stream",
     "text": [
      "0\n",
      "a\n",
      "1\n",
      "b\n",
      "2\n",
      "d\n",
      "3\n",
      "e\n",
      "4\n",
      "f\n",
      "5\n",
      "g\n",
      "6\n",
      "c\n"
     ]
    }
   ],
   "source": [
    "for i,v in enumerate(a): # 파이썬의 멀티 할당을 사용해서,,,,,!\n",
    "    print(i)\n",
    "    print(v)"
   ],
   "metadata": {
    "collapsed": false,
    "ExecuteTime": {
     "end_time": "2024-03-25T00:50:42.210375Z",
     "start_time": "2024-03-25T00:50:42.194487Z"
    }
   },
   "id": "fe77cb23bfd7fa1f"
  },
  {
   "cell_type": "code",
   "execution_count": 27,
   "outputs": [
    {
     "name": "stdout",
     "output_type": "stream",
     "text": [
      "0 번쨰 원소는 c가 아닙니다\n",
      "1 번쨰 원소는 c가 아닙니다\n",
      "2 번쨰 원소는 c가 아닙니다\n",
      "3 번쨰 원소는 c가 아닙니다\n",
      "4 번쨰 원소는 c가 아닙니다\n",
      "5 번쨰 원소는 c가 아닙니다\n",
      "['a', 'b', 'd', 'e', 'f', 'g']\n"
     ]
    }
   ],
   "source": [
    "b = []\n",
    "for i,v in enumerate(a): # 파이썬의 멀티 할당을 사용해서,,,,,!\n",
    "    if v != \"c\":\n",
    "        b.append(v)\n",
    "        print(i, \"번쨰 원소는 c가 아닙니다\")\n",
    "print(b)"
   ],
   "metadata": {
    "collapsed": false,
    "ExecuteTime": {
     "end_time": "2024-03-25T00:53:20.239027Z",
     "start_time": "2024-03-25T00:53:20.209965Z"
    }
   },
   "id": "ceba949ac203a073"
  },
  {
   "cell_type": "markdown",
   "source": [
    "## 중요"
   ],
   "metadata": {
    "collapsed": false
   },
   "id": "b70113fa31d689fe"
  },
  {
   "cell_type": "code",
   "execution_count": 28,
   "outputs": [],
   "source": [
    "# 파이선에서 주로 사용하는 방식 ## matlab\n",
    "# 리스트컴프리핸션\n",
    "# 장점 : 코드가 간결\n",
    "# 단점 : 너무 중첩해서 사용하면 오히려 복잡함!!!1\n",
    "# 적당한 복잡도 일 떄 사용한다!!\n",
    "# 기능 : 값을 돌려가면서 (for문), 원하는 값들을 모으는 역할 (리스트처럼)\n",
    "# 형식 : [ 모을값 for i in a]"
   ],
   "metadata": {
    "collapsed": false,
    "ExecuteTime": {
     "end_time": "2024-03-25T00:56:13.917737Z",
     "start_time": "2024-03-25T00:56:13.872873Z"
    }
   },
   "id": "ed9196c6e688e0e7"
  },
  {
   "cell_type": "code",
   "execution_count": 29,
   "outputs": [
    {
     "data": {
      "text/plain": "['a', 'b', 'd', 'e', 'f', 'g', 'c']"
     },
     "execution_count": 29,
     "metadata": {},
     "output_type": "execute_result"
    }
   ],
   "source": [
    "# 예시 \n",
    "b = []\n",
    "for i in a:\n",
    "    #print(i)\n",
    "    b.append(i)\n",
    "b    "
   ],
   "metadata": {
    "collapsed": false,
    "ExecuteTime": {
     "end_time": "2024-03-25T00:56:55.893573Z",
     "start_time": "2024-03-25T00:56:55.893048Z"
    }
   },
   "id": "78ce2ce8355ed961"
  },
  {
   "cell_type": "code",
   "execution_count": 30,
   "outputs": [
    {
     "data": {
      "text/plain": "['a', 'b', 'd', 'e', 'f', 'g', 'c']"
     },
     "execution_count": 30,
     "metadata": {},
     "output_type": "execute_result"
    }
   ],
   "source": [
    "[i for i in a]"
   ],
   "metadata": {
    "collapsed": false,
    "ExecuteTime": {
     "end_time": "2024-03-25T00:57:10.975722Z",
     "start_time": "2024-03-25T00:57:10.960662Z"
    }
   },
   "id": "388ca8600f42a873"
  },
  {
   "cell_type": "code",
   "execution_count": 31,
   "outputs": [],
   "source": [
    "# for + if 같이 사용해서 원하는 조건에 맞는 친구들만 모을 수 있음!!\n",
    "# 필터링을 쉽게 구현\n",
    "# 코드 구조상 for ~~~~ if ~~~ 값들을 모은다/ 출력 ~~~~ 리스트 컴프리핸ㅕㄴ\n",
    "# =====> 코드의 구조적인 부분의 유사성으로 눈으로 체크"
   ],
   "metadata": {
    "collapsed": false,
    "ExecuteTime": {
     "end_time": "2024-03-25T00:58:55.344907Z",
     "start_time": "2024-03-25T00:58:55.316796Z"
    }
   },
   "id": "3087f1774e2b64eb"
  },
  {
   "cell_type": "code",
   "execution_count": 32,
   "outputs": [
    {
     "name": "stdout",
     "output_type": "stream",
     "text": [
      "['a', 'b', 'd', 'e', 'f', 'g']\n"
     ]
    }
   ],
   "source": [
    "b = []\n",
    "for i in a:\n",
    "    if i != \"c\": # 필터링의 역할\n",
    "      b.append(i) \n",
    "    else : # 원소의 값의 값이 c인경우\n",
    "        pass\n",
    "\n",
    "print(b)   "
   ],
   "metadata": {
    "collapsed": false,
    "ExecuteTime": {
     "end_time": "2024-03-25T00:59:51.456669Z",
     "start_time": "2024-03-25T00:59:51.425484Z"
    }
   },
   "id": "16790285e8a3be8b"
  },
  {
   "cell_type": "code",
   "execution_count": 33,
   "outputs": [
    {
     "data": {
      "text/plain": "['a', 'b', 'd', 'e', 'f', 'g']"
     },
     "execution_count": 33,
     "metadata": {},
     "output_type": "execute_result"
    }
   ],
   "source": [
    "[i for i in a if i != \"c\"]"
   ],
   "metadata": {
    "collapsed": false,
    "ExecuteTime": {
     "end_time": "2024-03-25T01:00:30.514548Z",
     "start_time": "2024-03-25T01:00:30.468945Z"
    }
   },
   "id": "6960c3b82ab22944"
  },
  {
   "cell_type": "code",
   "execution_count": 34,
   "outputs": [
    {
     "data": {
      "text/plain": "[(0, 'a'), (1, 'b'), (2, 'd'), (3, 'e'), (4, 'f'), (5, 'g'), (6, 'c')]"
     },
     "execution_count": 34,
     "metadata": {},
     "output_type": "execute_result"
    }
   ],
   "source": [
    "# 참고) 위에 있던 a리스트에서...\n",
    "# a의 홀수번쨰 위치한 값들에 대해서만 \"h\"라는 문자를 붙여서 ... 모아 보세요\n",
    "# 1줄의 리스트 컴프리핸션으로 해보세요\n",
    "# 위치가 홀수/ 짝수 판별 : 몇번쨰 인지 정수인덱스에 ...\n",
    "# 모을려는 대상은 개별원소의 값 + h : 값 자체도 필요\n",
    "# 필요한 정보 : 정수 인덱스 & 값 자체도 필요 ===> enumerate()\n",
    "\n",
    "[i for i in enumerate(a) if a[0] != \"c\"]"
   ],
   "metadata": {
    "collapsed": false,
    "ExecuteTime": {
     "end_time": "2024-03-25T01:07:38.458862Z",
     "start_time": "2024-03-25T01:07:38.428237Z"
    }
   },
   "id": "9caf7496cef53960"
  },
  {
   "cell_type": "code",
   "execution_count": 40,
   "outputs": [
    {
     "data": {
      "text/plain": "['a',\n 'b',\n 'd',\n 'e',\n 'f',\n 'g',\n 'ah',\n 'bh',\n 'eh',\n 'fh',\n 'ih',\n 'ah',\n 'bh',\n 'eh',\n 'fh',\n 'ih']"
     },
     "execution_count": 40,
     "metadata": {},
     "output_type": "execute_result"
    }
   ],
   "source": [
    "# 시도 1)  그냥 정수 인덱스만 사용해서\n",
    "a = [\"a\", \"b\", \"c\",\"d\", \"e\", \"f\",\"g\", \"c\", \"i\"]\n",
    "\n",
    "for i in range(len(a)):\n",
    "    #print(i)\n",
    "    if i & 2 == 0:\n",
    "        b.append(a[i]+\"h\")\n",
    "b"
   ],
   "metadata": {
    "collapsed": false,
    "ExecuteTime": {
     "end_time": "2024-03-25T01:11:25.030985Z",
     "start_time": "2024-03-25T01:11:25.028867Z"
    }
   },
   "id": "cbb4823fc52e6fc3"
  },
  {
   "cell_type": "code",
   "execution_count": 41,
   "outputs": [
    {
     "data": {
      "text/plain": "['ah', 'ch', 'eh', 'gh', 'ih']"
     },
     "execution_count": 41,
     "metadata": {},
     "output_type": "execute_result"
    }
   ],
   "source": [
    "# 내가 모을 대상 /\n",
    "[a[i]+\"h\" for i in range(len(a)) if i % 2==0]"
   ],
   "metadata": {
    "collapsed": false,
    "ExecuteTime": {
     "end_time": "2024-03-25T01:12:18.618425Z",
     "start_time": "2024-03-25T01:12:18.609925Z"
    }
   },
   "id": "b7bc92840be34d59"
  },
  {
   "cell_type": "code",
   "execution_count": 45,
   "outputs": [
    {
     "data": {
      "text/plain": "['ah', 'ch', 'eh', 'gh', 'ih']"
     },
     "execution_count": 45,
     "metadata": {},
     "output_type": "execute_result"
    }
   ],
   "source": [
    "# 시도 2) enumerate 이용해서\n",
    "# 위치가 짝/ 홀수냐 \n",
    "[v+\"h\" for i,v in enumerate(a) if i % 2 ==0]"
   ],
   "metadata": {
    "collapsed": false,
    "ExecuteTime": {
     "end_time": "2024-03-25T01:14:08.113988Z",
     "start_time": "2024-03-25T01:14:08.105592Z"
    }
   },
   "id": "fc83f705268d7d89"
  },
  {
   "cell_type": "code",
   "execution_count": 48,
   "outputs": [
    {
     "data": {
      "text/plain": "['ae', 'bo', 'ce', 'do', 'ee', 'fo', 'ge', 'co', 'ie']"
     },
     "execution_count": 48,
     "metadata": {},
     "output_type": "execute_result"
    }
   ],
   "source": [
    "# 참고 질문 사항 --> 짝수일 떄는 e를 더하고, 홀수일떄는 o를 더하자\n",
    "# case by case로 할떄\n",
    "#\n",
    "[ v+\"e\" if i%2 == 0 else v+\"o\" for i,v in enumerate(a)]"
   ],
   "metadata": {
    "collapsed": false,
    "ExecuteTime": {
     "end_time": "2024-03-25T01:33:13.269186Z",
     "start_time": "2024-03-25T01:33:13.265321Z"
    }
   },
   "id": "36caf928e745905f"
  },
  {
   "cell_type": "code",
   "execution_count": 46,
   "outputs": [
    {
     "name": "stdout",
     "output_type": "stream",
     "text": [
      "ah\n",
      "ch\n",
      "eh\n",
      "gh\n",
      "ih\n"
     ]
    }
   ],
   "source": [
    "for i,v in enumerate(a):\n",
    "    if i % 2 ==0:\n",
    "        print(v+\"h\")"
   ],
   "metadata": {
    "collapsed": false,
    "ExecuteTime": {
     "end_time": "2024-03-25T01:14:53.839466Z",
     "start_time": "2024-03-25T01:14:53.813256Z"
    }
   },
   "id": "60b2abc2d5c9a61f"
  },
  {
   "cell_type": "code",
   "execution_count": 47,
   "outputs": [
    {
     "data": {
      "text/plain": "[0, 2, 4, 6, 8]"
     },
     "execution_count": 47,
     "metadata": {},
     "output_type": "execute_result"
    }
   ],
   "source": [
    "[i for i,v in enumerate(a) if i % 2 ==0]"
   ],
   "metadata": {
    "collapsed": false,
    "ExecuteTime": {
     "end_time": "2024-03-25T01:15:31.734400Z",
     "start_time": "2024-03-25T01:15:31.708140Z"
    }
   },
   "id": "bcc41da1a5beb196"
  },
  {
   "cell_type": "code",
   "execution_count": 49,
   "outputs": [],
   "source": [
    "## 중요 !!! \n",
    "\n",
    "# 리스트 컴프리핸션 : for ~~~~ if ~~~ print/append() ====>\n",
    "#             그냥 돌릴떄 [모을대상 for ~~~~ if ~~~~~~]\n",
    "#             특정 조건에 대한 필터링 [모을 대상 for ~~~~ if ~~~~] \n",
    "#             이럴 떄 저럴때 각기  처리 ['if 모을값' 'if 조건 else' else일떄 모을깞' for~~~~~]\n",
    "# + 참고) 내가 만든 함수 등등 ...\n",
    "\n",
    "\n",
    "\n",
    "\n",
    "# 주로 사용되는 역할 : 필터링 !!!! (복제.....)\n",
    "# +++ enumerate, dictionary의 .items(), etc 같이 사용해서 쓸 수 있음!!!!\n",
    "# +++ 모을 대상이 하나가 아니라 여러개돈 가능함 !!! ===> 코테에서 정렬\n",
    "# +++ 모을 대상에 대한 변경을 통한 수집도 가능 : v + \"h\""
   ],
   "metadata": {
    "collapsed": false,
    "ExecuteTime": {
     "end_time": "2024-03-25T01:36:29.851702Z",
     "start_time": "2024-03-25T01:36:29.803455Z"
    }
   },
   "id": "90aef45c35f6e9df"
  },
  {
   "cell_type": "code",
   "execution_count": 50,
   "outputs": [],
   "source": [
    "# 연습 !!! \n",
    "\n",
    "a = [[\"a\",\"b\",\"c\",\"d\"],\"f\", \"g\", [\"c\",\"i\"]]\n",
    "# 하려고 하는 일 : a의 원소중에서 c만 제거해서\n",
    "# b =[\"a\",\"b\",\"d\",\"f\",\"g\",\"i\"]"
   ],
   "metadata": {
    "collapsed": false,
    "ExecuteTime": {
     "end_time": "2024-03-25T01:38:18.594372Z",
     "start_time": "2024-03-25T01:38:18.566521Z"
    }
   },
   "id": "b863176929b70320"
  },
  {
   "cell_type": "code",
   "execution_count": 51,
   "outputs": [
    {
     "data": {
      "text/plain": "['a', 'b', 'c', 'd']"
     },
     "execution_count": 51,
     "metadata": {},
     "output_type": "execute_result"
    }
   ],
   "source": [
    "a[0]"
   ],
   "metadata": {
    "collapsed": false,
    "ExecuteTime": {
     "end_time": "2024-03-25T01:38:33.128245Z",
     "start_time": "2024-03-25T01:38:33.101319Z"
    }
   },
   "id": "96b713e7bf86812"
  },
  {
   "cell_type": "code",
   "execution_count": 53,
   "outputs": [
    {
     "data": {
      "text/plain": "'b'"
     },
     "execution_count": 53,
     "metadata": {},
     "output_type": "execute_result"
    }
   ],
   "source": [
    "a[0][1]"
   ],
   "metadata": {
    "collapsed": false,
    "ExecuteTime": {
     "end_time": "2024-03-25T01:39:23.097346Z",
     "start_time": "2024-03-25T01:39:23.086828Z"
    }
   },
   "id": "4125e549cf724ce4"
  },
  {
   "cell_type": "code",
   "execution_count": 54,
   "outputs": [
    {
     "data": {
      "text/plain": "'f'"
     },
     "execution_count": 54,
     "metadata": {},
     "output_type": "execute_result"
    }
   ],
   "source": [
    "a[1]"
   ],
   "metadata": {
    "collapsed": false,
    "ExecuteTime": {
     "end_time": "2024-03-25T01:40:57.050574Z",
     "start_time": "2024-03-25T01:40:57.024206Z"
    }
   },
   "id": "7674153bc8aab43b"
  },
  {
   "cell_type": "code",
   "execution_count": 55,
   "outputs": [
    {
     "data": {
      "text/plain": "'f'"
     },
     "execution_count": 55,
     "metadata": {},
     "output_type": "execute_result"
    }
   ],
   "source": [
    "a[1][0]"
   ],
   "metadata": {
    "collapsed": false,
    "ExecuteTime": {
     "end_time": "2024-03-25T01:41:02.052505Z",
     "start_time": "2024-03-25T01:41:02.013008Z"
    }
   },
   "id": "8a7fadf16f0ba5c8"
  },
  {
   "cell_type": "code",
   "execution_count": 60,
   "outputs": [
    {
     "ename": "IndentationError",
     "evalue": "unindent does not match any outer indentation level (<tokenize>, line 10)",
     "output_type": "error",
     "traceback": [
      "\u001B[0;36m  File \u001B[0;32m<tokenize>:10\u001B[0;36m\u001B[0m\n\u001B[0;31m    print(\"*\"*10)\u001B[0m\n\u001B[0m    ^\u001B[0m\n\u001B[0;31mIndentationError\u001B[0m\u001B[0;31m:\u001B[0m unindent does not match any outer indentation level\n"
     ]
    }
   ],
   "source": [
    "# a의 개별우너소를 접근하는 규칙을 일관성있게 만들어 주기 위해서!!!\n",
    "# ===> 정수 인덱스로 할떄....\n",
    "\n",
    "for i in range(len(a)):\n",
    "    #print(i)\n",
    "    # i : 0,1,2,3\n",
    "    for j in range(len(a[i])):\n",
    "        #print(i,j)\n",
    "        print(a[i][j])\n",
    "        "
   ],
   "metadata": {
    "collapsed": false,
    "ExecuteTime": {
     "end_time": "2024-03-25T01:50:17.919039Z",
     "start_time": "2024-03-25T01:50:17.918002Z"
    }
   },
   "id": "5ed5dcd6a9cb350a"
  },
  {
   "cell_type": "code",
   "execution_count": 61,
   "outputs": [
    {
     "name": "stdout",
     "output_type": "stream",
     "text": [
      "a\n",
      "b\n",
      "c\n",
      "d\n",
      "**********\n",
      "f\n",
      "**********\n",
      "g\n",
      "**********\n",
      "c\n",
      "i\n",
      "**********\n"
     ]
    }
   ],
   "source": [
    "# 파이썬은 그냥 값으로 돌려도 됨!!!\n",
    "# 데이터를 처리하는 가장 기본적인 구조가 이중 for 문!!!!\n",
    "\n",
    "for i in a:\n",
    "    #print(i)\n",
    "    for j in i:\n",
    "        print(j)\n",
    "    print(\"*\"*10)"
   ],
   "metadata": {
    "collapsed": false,
    "ExecuteTime": {
     "end_time": "2024-03-25T01:51:05.535738Z",
     "start_time": "2024-03-25T01:51:05.532273Z"
    }
   },
   "id": "173e9acde936919"
  },
  {
   "cell_type": "code",
   "execution_count": 62,
   "outputs": [
    {
     "ename": "NameError",
     "evalue": "name 'c' is not defined",
     "output_type": "error",
     "traceback": [
      "\u001B[0;31m---------------------------------------------------------------------------\u001B[0m",
      "\u001B[0;31mNameError\u001B[0m                                 Traceback (most recent call last)",
      "Cell \u001B[0;32mIn[62], line 7\u001B[0m\n\u001B[1;32m      5\u001B[0m \u001B[38;5;28;01mfor\u001B[39;00m j \u001B[38;5;129;01min\u001B[39;00m i:\n\u001B[1;32m      6\u001B[0m     \u001B[38;5;28;01mif\u001B[39;00m j \u001B[38;5;241m!=\u001B[39m \u001B[38;5;124m\"\u001B[39m\u001B[38;5;124mc\u001B[39m\u001B[38;5;124m\"\u001B[39m:\n\u001B[0;32m----> 7\u001B[0m         \u001B[38;5;28mprint\u001B[39m(\u001B[43mc\u001B[49m)\n",
      "\u001B[0;31mNameError\u001B[0m: name 'c' is not defined"
     ]
    }
   ],
   "source": [
    "# 값으로 돌리는 것\n",
    "b = []\n",
    "for i in a:\n",
    "    #print(i)\n",
    "    for j in i:\n",
    "        if j != \"c\":\n",
    "            print(c)"
   ],
   "metadata": {
    "collapsed": false,
    "ExecuteTime": {
     "end_time": "2024-03-25T01:52:36.745536Z",
     "start_time": "2024-03-25T01:52:36.705149Z"
    }
   },
   "id": "9b3562f65f305d05"
  },
  {
   "cell_type": "code",
   "execution_count": 65,
   "outputs": [
    {
     "name": "stdout",
     "output_type": "stream",
     "text": [
      "a\n",
      "b\n",
      "d\n",
      "f\n",
      "g\n",
      "i\n"
     ]
    }
   ],
   "source": [
    "# a의 개별우너소를 접근하는 규칙을 일관성있게 만들어 주기 위해서!!!\n",
    "# ===> 정수 인덱스로 할떄....\n",
    "b = []\n",
    "for i in range(len(a)):\n",
    "    #print(i)\n",
    "    # i : 0,1,2,3\n",
    "    for j in range(len(a[i])):\n",
    "        if a[i][j] != 'c':\n",
    "            print(a[i][j])"
   ],
   "metadata": {
    "collapsed": false,
    "ExecuteTime": {
     "end_time": "2024-03-25T01:53:26.105009Z",
     "start_time": "2024-03-25T01:53:26.091621Z"
    }
   },
   "id": "4831c7a0b3f03172"
  },
  {
   "cell_type": "code",
   "execution_count": 66,
   "outputs": [],
   "source": [
    "################## ---> 기능 중심으로 줄 코드 작성하는 부분"
   ],
   "metadata": {
    "collapsed": false,
    "ExecuteTime": {
     "end_time": "2024-03-25T01:54:50.255471Z",
     "start_time": "2024-03-25T01:54:50.211007Z"
    }
   },
   "id": "da510f452ec56195"
  },
  {
   "cell_type": "code",
   "execution_count": 66,
   "outputs": [],
   "source": [
    "# 덩어리 중심의 코드 정리 : 함수 =====> 클래스 =====> 패키지"
   ],
   "metadata": {
    "collapsed": false,
    "ExecuteTime": {
     "end_time": "2024-03-25T01:54:50.345594Z",
     "start_time": "2024-03-25T01:54:50.318355Z"
    }
   },
   "id": "adc16135b43f2b80"
  },
  {
   "cell_type": "code",
   "execution_count": 67,
   "outputs": [],
   "source": [
    "# 가정 기본적인 구조화 : 함수\n",
    "# 함수 그림 집어 넣기\n",
    "# 함수의 3가지 요소 : 입력, 출력, 입력과 출력의 관계 (기능)\n",
    "# 중심은 무엇을수행할지에 대한 \"기능중심\"\n",
    "# 내부는 내부는 내가 만들면, 1번 만들면 더이상 신경 안쓰고\n",
    "# 남이 만드거면... 그냥 내부는 생각안하고 기능만 생각해서 가져다 쓰자"
   ],
   "metadata": {
    "collapsed": false,
    "ExecuteTime": {
     "end_time": "2024-03-25T02:00:01.929562Z",
     "start_time": "2024-03-25T02:00:01.893242Z"
    }
   },
   "id": "514cb3e828409206"
  },
  {
   "cell_type": "code",
   "execution_count": 68,
   "outputs": [
    {
     "ename": "SyntaxError",
     "evalue": "invalid syntax (1725814219.py, line 2)",
     "output_type": "error",
     "traceback": [
      "\u001B[0;36m  Cell \u001B[0;32mIn[68], line 2\u001B[0;36m\u001B[0m\n\u001B[0;31m    def 함수명[소문자](입력인자들): # X ===> 입력에 대한 세팅\u001B[0m\n\u001B[0m           ^\u001B[0m\n\u001B[0;31mSyntaxError\u001B[0m\u001B[0;31m:\u001B[0m invalid syntax\n"
     ]
    }
   ],
   "source": [
    "# 함수를 만드는 기본적인 방법\n",
    "def 함수명[소문자](입력인자들): # X ===> 입력에 대한 세팅\n",
    "    무엇을 할지 기술 !!! # 입력 / 츨력의 관계 & 기능에 대한 구현 !!!\n",
    "    return 출력 # y에 대해서 "
   ],
   "metadata": {
    "collapsed": false,
    "ExecuteTime": {
     "end_time": "2024-03-25T02:02:30.836021Z",
     "start_time": "2024-03-25T02:02:30.802846Z"
    }
   },
   "id": "1d17442bf9b3c447"
  },
  {
   "cell_type": "code",
   "execution_count": 69,
   "outputs": [
    {
     "ename": "SyntaxError",
     "evalue": "invalid syntax (1736513720.py, line 1)",
     "output_type": "error",
     "traceback": [
      "\u001B[0;36m  Cell \u001B[0;32mIn[69], line 1\u001B[0;36m\u001B[0m\n\u001B[0;31m    def 함수명(입력1,입력2,,,,):\u001B[0m\n\u001B[0m                    ^\u001B[0m\n\u001B[0;31mSyntaxError\u001B[0m\u001B[0;31m:\u001B[0m invalid syntax\n"
     ]
    }
   ],
   "source": [
    "def 함수명(입력1,입력2,,,,):\n",
    "    무엇을 할지 기술......\n",
    "    return 출력1, 출력2 ......"
   ],
   "metadata": {
    "collapsed": false,
    "ExecuteTime": {
     "end_time": "2024-03-25T02:03:16.259789Z",
     "start_time": "2024-03-25T02:03:16.192841Z"
    }
   },
   "id": "37e414ca84f35d7e"
  },
  {
   "cell_type": "code",
   "execution_count": 72,
   "outputs": [],
   "source": [
    "# 예) 파이썬의 더하는 함수 !!! sum 함수가 있음\n",
    "# 조금 불편.... sum([10,20]) ==> sum2(10,20) : 30\n",
    "\n",
    "# 입력 : 숫자 2개를 입력으로 받아서\n",
    "# 기능 : 두 입력받은 숫자의 합을 출력으로\n",
    "# 출력 : 입력받은 두 수의 합의 결과\n",
    "# 이러한 기능을 합넙ㄴ이 아니라 반복해서, 여러 사람딩 할 사용할것 같은것\n",
    "# 한 번 만들고, 나중에는 그냥 가져다 쓰자!!1\n",
    "\n",
    "def sum2(a,b):\n",
    "    # 입력으로 받은 a,b를 가지고 무엇을 할지 기술... 파이썬 문법으로 구현!!!!\n",
    "    result = a + b\n",
    "    return result\n",
    "\n",
    "# 참고_ 함수 내에서 만든 변수들의 생존여부는 오로지 함수 내부에서만 가능!"
   ],
   "metadata": {
    "collapsed": false,
    "ExecuteTime": {
     "end_time": "2024-03-25T02:07:13.355674Z",
     "start_time": "2024-03-25T02:07:13.350262Z"
    }
   },
   "id": "5fdd1f343f674866"
  },
  {
   "cell_type": "code",
   "execution_count": 71,
   "outputs": [
    {
     "data": {
      "text/plain": "30"
     },
     "execution_count": 71,
     "metadata": {},
     "output_type": "execute_result"
    }
   ],
   "source": [
    "sum([10,20])"
   ],
   "metadata": {
    "collapsed": false,
    "ExecuteTime": {
     "end_time": "2024-03-25T02:04:11.928648Z",
     "start_time": "2024-03-25T02:04:11.882880Z"
    }
   },
   "id": "9fea60a3941f22e8"
  },
  {
   "cell_type": "code",
   "execution_count": 73,
   "outputs": [
    {
     "data": {
      "text/plain": "30"
     },
     "execution_count": 73,
     "metadata": {},
     "output_type": "execute_result"
    }
   ],
   "source": [
    "sum2(10,20)"
   ],
   "metadata": {
    "collapsed": false,
    "ExecuteTime": {
     "end_time": "2024-03-25T02:07:21.498570Z",
     "start_time": "2024-03-25T02:07:21.459764Z"
    }
   },
   "id": "ce6871e5eccb397d"
  },
  {
   "cell_type": "code",
   "execution_count": 74,
   "outputs": [
    {
     "data": {
      "text/plain": "3000"
     },
     "execution_count": 74,
     "metadata": {},
     "output_type": "execute_result"
    }
   ],
   "source": [
    "sum2(1000,2000)"
   ],
   "metadata": {
    "collapsed": false,
    "ExecuteTime": {
     "end_time": "2024-03-25T02:07:29.068877Z",
     "start_time": "2024-03-25T02:07:29.011291Z"
    }
   },
   "id": "19043b0160a55dbe"
  },
  {
   "cell_type": "code",
   "execution_count": 75,
   "outputs": [
    {
     "data": {
      "text/plain": "30"
     },
     "execution_count": 75,
     "metadata": {},
     "output_type": "execute_result"
    }
   ],
   "source": [
    "a = 999\n",
    "sum2(10,20) # 함수 내부의 a와 외부 코드상의 변수 a는 다른 친구"
   ],
   "metadata": {
    "collapsed": false,
    "ExecuteTime": {
     "end_time": "2024-03-25T02:09:09.252265Z",
     "start_time": "2024-03-25T02:09:09.199265Z"
    }
   },
   "id": "e65c5c2d8d25d4d0"
  },
  {
   "cell_type": "code",
   "execution_count": 76,
   "outputs": [],
   "source": [
    "# 차별점 : 입력이 가변적으로 여러개가 될 떄 대한 처리!!!\n",
    "# 여러개의 가변적인 입력에 대해서 처리할 떄... *agrs\n",
    "# 파이썬의 리스트 처럼 생각\n",
    "\n",
    "\n",
    "#sumrandom(10,20,30)\n",
    "#sumrandom(11,1,1,2,2,3,2,2,2)\n",
    "\n",
    "def sumrandom(*args): # 사람들이 보통 사용하는 이름인 args, 다른 명 해도 됨!!\n",
    "    # args는 파이썬의 리스트 처럼!!!!!\n",
    "    # args = [10, 20, 30], [1,1,1,2,3,3,2,3,4,3,4,34,3]\n",
    "    # 누적합을 처리할 변수, 초기값 0 ==> 필요해서 만든 것....  \n",
    "    temp = 0\n",
    "    # 입력으로 받은 것ㄷ글을 롤링 for => 값 자체로 롤링\n",
    "    for i in args: # 입력으로 받은 값들을 하나씩 뽑아주는 역할!!!1\n",
    "        # temp = temp + i\n",
    "        temp += i\n",
    "    return temp    "
   ],
   "metadata": {
    "collapsed": false,
    "ExecuteTime": {
     "end_time": "2024-03-25T02:17:08.848749Z",
     "start_time": "2024-03-25T02:17:08.798510Z"
    }
   },
   "id": "f67407486631baf2"
  },
  {
   "cell_type": "code",
   "execution_count": 77,
   "outputs": [
    {
     "data": {
      "text/plain": "30"
     },
     "execution_count": 77,
     "metadata": {},
     "output_type": "execute_result"
    }
   ],
   "source": [
    "sumrandom(10,20)"
   ],
   "metadata": {
    "collapsed": false,
    "ExecuteTime": {
     "end_time": "2024-03-25T02:17:52.488450Z",
     "start_time": "2024-03-25T02:17:52.437105Z"
    }
   },
   "id": "4139d7354318ed2f"
  },
  {
   "cell_type": "code",
   "execution_count": 78,
   "outputs": [
    {
     "data": {
      "text/plain": "35"
     },
     "execution_count": 78,
     "metadata": {},
     "output_type": "execute_result"
    }
   ],
   "source": [
    "sumrandom(10,20,1,1,1,1,1)"
   ],
   "metadata": {
    "collapsed": false,
    "ExecuteTime": {
     "end_time": "2024-03-25T02:18:03.909471Z",
     "start_time": "2024-03-25T02:18:03.838962Z"
    }
   },
   "id": "33946a9e89314ce2"
  },
  {
   "cell_type": "code",
   "execution_count": 79,
   "outputs": [],
   "source": [
    "# 참고) 출력을 여러개 내보내는 경우..\n",
    "# ===> 입력 2개 숫자, 사칙연산결과 4개를 출력\n",
    "\n",
    "def multiple2(a,b):\n",
    "    return  a+b, a-b, a*b, a/b"
   ],
   "metadata": {
    "collapsed": false,
    "ExecuteTime": {
     "end_time": "2024-03-25T02:19:32.334157Z",
     "start_time": "2024-03-25T02:19:32.294013Z"
    }
   },
   "id": "a2475ee8c41b4563"
  },
  {
   "cell_type": "code",
   "execution_count": 80,
   "outputs": [
    {
     "data": {
      "text/plain": "(30, -10, 200, 0.5)"
     },
     "execution_count": 80,
     "metadata": {},
     "output_type": "execute_result"
    }
   ],
   "source": [
    "multiple2(10,20)"
   ],
   "metadata": {
    "collapsed": false,
    "ExecuteTime": {
     "end_time": "2024-03-25T02:19:38.621940Z",
     "start_time": "2024-03-25T02:19:38.582293Z"
    }
   },
   "id": "d064187480424934"
  },
  {
   "cell_type": "code",
   "execution_count": 81,
   "outputs": [
    {
     "data": {
      "text/plain": "-10"
     },
     "execution_count": 81,
     "metadata": {},
     "output_type": "execute_result"
    }
   ],
   "source": [
    "multiple2(10,20)[1]"
   ],
   "metadata": {
    "collapsed": false,
    "ExecuteTime": {
     "end_time": "2024-03-25T02:20:34.260627Z",
     "start_time": "2024-03-25T02:20:34.224480Z"
    }
   },
   "id": "8cb5e095ab36eb48"
  },
  {
   "cell_type": "code",
   "execution_count": 82,
   "outputs": [],
   "source": [
    "# 함수 : 입력, 출력을 중심으로 내가 무엇을 할지에 대한 기능화!!!\n",
    "# ==> 한번 만들면 여러번 재사용을 하겠다....!!!\n",
    "# 기능적인 ctrl +c/v 에 대한 효율호ㅓ\n",
    "# ===> 참고) 여러번은 아닌데, 뭔가 기능을 내가 원하는대로 해야할 경우 (특수한 경우)\n",
    "#한 번 정도, 2번정도??? 사용성이 낮은 경우\n",
    "# =======> 각 잡고 함수로 만들기에는 좀 귀찮아서... 간단한 함수를 lambda 함수\n",
    "# =======> 데이터 전처리 id_0001, id_002, id_003.... => 1, 2,3 : 간단히 전처리 룰 lambda 함수로 기술!\n",
    "# ======> 코테에서 정렬(나만의 특별 기준) 에 대한 부분에 대한 한줄 !!!!!!!\n",
    "# 양식 : lambda 입력 인자를 : 입력 인자들로 무엇을 할지만 기술\n",
    "# 단점 : 재활용이 불가능함\n",
    "# *** 코테에서 정말로 !!!! 최종 출력 정리에서 사용됨!!! (정렬)"
   ],
   "metadata": {
    "collapsed": false,
    "ExecuteTime": {
     "end_time": "2024-03-25T02:25:54.645328Z",
     "start_time": "2024-03-25T02:25:54.609625Z"
    }
   },
   "id": "fb02e1b2c67cb5c8"
  },
  {
   "cell_type": "code",
   "execution_count": 83,
   "outputs": [],
   "source": [
    "def sum2(a,b):\n",
    "    result = a+b\n",
    "    return result"
   ],
   "metadata": {
    "collapsed": false,
    "ExecuteTime": {
     "end_time": "2024-03-25T02:26:23.208907Z",
     "start_time": "2024-03-25T02:26:23.163190Z"
    }
   },
   "id": "430a913c47f19970"
  },
  {
   "cell_type": "code",
   "execution_count": 84,
   "outputs": [
    {
     "data": {
      "text/plain": "12"
     },
     "execution_count": 84,
     "metadata": {},
     "output_type": "execute_result"
    }
   ],
   "source": [
    "sum2(10,2)"
   ],
   "metadata": {
    "collapsed": false,
    "ExecuteTime": {
     "end_time": "2024-03-25T02:26:26.766559Z",
     "start_time": "2024-03-25T02:26:26.700832Z"
    }
   },
   "id": "721034881af0218d"
  },
  {
   "cell_type": "code",
   "execution_count": 85,
   "outputs": [
    {
     "data": {
      "text/plain": "50"
     },
     "execution_count": 85,
     "metadata": {},
     "output_type": "execute_result"
    }
   ],
   "source": [
    "sum2(20,30)"
   ],
   "metadata": {
    "collapsed": false,
    "ExecuteTime": {
     "end_time": "2024-03-25T02:26:32.921885Z",
     "start_time": "2024-03-25T02:26:32.867613Z"
    }
   },
   "id": "b88f8fccb9f80251"
  },
  {
   "cell_type": "code",
   "execution_count": 86,
   "outputs": [
    {
     "data": {
      "text/plain": "40"
     },
     "execution_count": 86,
     "metadata": {},
     "output_type": "execute_result"
    }
   ],
   "source": [
    "# 간단한 람다함수로 하면...\n",
    "\n",
    "(lambda a,b : a+b)(10,30)"
   ],
   "metadata": {
    "collapsed": false,
    "ExecuteTime": {
     "end_time": "2024-03-25T02:27:16.793203Z",
     "start_time": "2024-03-25T02:27:16.751379Z"
    }
   },
   "id": "7e3b59cd240b6aa4"
  },
  {
   "cell_type": "code",
   "execution_count": 87,
   "outputs": [
    {
     "data": {
      "text/plain": "400"
     },
     "execution_count": 87,
     "metadata": {},
     "output_type": "execute_result"
    }
   ],
   "source": [
    "(lambda a,b : a+b)(100,300)"
   ],
   "metadata": {
    "collapsed": false,
    "ExecuteTime": {
     "end_time": "2024-03-25T02:27:46.112693Z",
     "start_time": "2024-03-25T02:27:46.062872Z"
    }
   },
   "id": "a26938fb265f6c99"
  },
  {
   "cell_type": "code",
   "execution_count": 88,
   "outputs": [],
   "source": [
    "# 중요 !!################################################\n",
    "# 데이터 전처리 : apply + 어떤 일을 쭉 적용할지 기술 할떄\n",
    "# 코테에서도 : 정렬을 활용한 나만의 정렬 기준을 작성할떄\n",
    "########################################################"
   ],
   "metadata": {
    "collapsed": false,
    "ExecuteTime": {
     "end_time": "2024-03-25T02:35:03.984106Z",
     "start_time": "2024-03-25T02:35:03.935525Z"
    }
   },
   "id": "670512ac6826f4c4"
  },
  {
   "cell_type": "code",
   "execution_count": null,
   "outputs": [],
   "source": [],
   "metadata": {
    "collapsed": false
   },
   "id": "8f252f4d39b1d0f9"
  }
 ],
 "metadata": {
  "kernelspec": {
   "display_name": "Python 3",
   "language": "python",
   "name": "python3"
  },
  "language_info": {
   "codemirror_mode": {
    "name": "ipython",
    "version": 2
   },
   "file_extension": ".py",
   "mimetype": "text/x-python",
   "name": "python",
   "nbconvert_exporter": "python",
   "pygments_lexer": "ipython2",
   "version": "2.7.6"
  }
 },
 "nbformat": 4,
 "nbformat_minor": 5
}

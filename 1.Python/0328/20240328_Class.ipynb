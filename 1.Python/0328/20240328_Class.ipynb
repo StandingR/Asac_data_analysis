{
 "cells": [
  {
   "cell_type": "markdown",
   "source": [],
   "metadata": {
    "collapsed": false
   },
   "id": "11614492435ebe54"
  },
  {
   "cell_type": "markdown",
   "source": [
    "기본적인 목적 : 코드들을 기능 중심으로 구조화!!!!!\n",
    "   ==> 함수 : 입력 / 출력 / 기능\n",
    "   ==> 클래스 : 내가 필요한 대상(속성, 기능)\n",
    "   ==> 패키지 : 필요한 여러가지 들을 모아둔!!!!!\n",
    "       pandas, scikit-learn + optuna, TF/PyTorch ,,,,,\n",
    "        DF          DF/Array             Tensor(Array)\n",
    " ===> 내가 불편해서 필요한거 만들겠다!! 자주 사용되는 것들\n",
    "\n",
    " 체계적으로 기능 중신들로 어떻게 구성을 할까\n",
    "참고 ) 데이터 수집, 데이터 분석, 머신러닝 : 함수정도면 충분함!!\n",
    "딥러닝 : TensorFlow ---> Keras : 함수\n",
    "        프로젝트(최신것) PyTorch : 클래스"
   ],
   "metadata": {
    "collapsed": false
   },
   "id": "10a8009b634f02e8"
  },
  {
   "cell_type": "markdown",
   "source": [
    "학생들에 대한 국어, 영어, 수학, 과학 점수들을 처리하고자 함\n",
    "1) 주어진 정보들을 파이썬의 특징을 활용해서 꾸역꾸역\n",
    "=> 우리반 전체 학생들에 대해서 : 리스트\n",
    "    개별 학생에 대한 정보 : dictionary"
   ],
   "metadata": {
    "collapsed": false
   },
   "id": "364863791f6e8cf"
  },
  {
   "cell_type": "code",
   "execution_count": null,
   "id": "initial_id",
   "metadata": {
    "collapsed": true
   },
   "outputs": [],
   "source": [
    "students = [\n",
    "    {\"name\":\"AAA\", \"korean\":98,\"math\":93, \"english\":79, \"science\":95},\n",
    "    {\"name\":\"BBB\", \"korean\":78,\"math\":87, \"english\":87, \"science\":90},\n",
    "    {\"name\":\"CCC\", \"korean\":90,\"math\":85, \"english\":89, \"science\":92},\n",
    "    {\"name\":\"DDD\", \"korean\":80,\"math\":96, \"english\":99, \"science\":93},\n",
    "    {\"name\":\"EEE\", \"korean\":70,\"math\":80, \"english\":89, \"science\":95},\n",
    "\n",
    "]"
   ]
  },
  {
   "cell_type": "markdown",
   "source": [
    "우리반 학생별로 4과목 성적에 대한 총점 / 평균 점수를 출력하자\n",
    "출력 : 학생이름 , 4과목 총점, 4과목에 평균 출력"
   ],
   "metadata": {
    "collapsed": false
   },
   "id": "e3805904acf6058b"
  },
  {
   "cell_type": "code",
   "execution_count": null,
   "outputs": [],
   "source": [
    "print(\"이름\",\"총점\",\"평균\", sep=\"\\t\") # sep : 출력대상 사이 . end : 다 출력하고 뭐 (줄바꿈)\n",
    "for student in students:\n",
    "    # 개별 학생에 대해서 할 일에!!\n",
    "    score_sum = student[\"korean\"] + student[\"math\"] \\\n",
    "    +student[\"english\"] + student[\"science\"]\n",
    "    score_avg = score_sum /4\n",
    "    print(student[\"name\"], score_sum, score_avg, sep=\"\\t\")"
   ],
   "metadata": {
    "collapsed": false
   },
   "id": "f14f95d02ce8afff"
  },
  {
   "cell_type": "code",
   "execution_count": null,
   "outputs": [],
   "source": [
    "\"\"\"# 우리반 학생별로 4과목 성적에 대한 총점/ 평균 점수를 출력하자!!!!\n",
    "# 출력 : 학생이름, 4과목 총점, 4과목에 평균 출력!!!\n",
    "print(\"이름\",\"총점\",\"평균\", sep=\"\\t\") # sep: 출력대상 사이, end: 다 출력하고 뭐(기본:줄 바꿈)\n",
    "for student in students:\n",
    "    # 개별 학생에 대해서 할 일에!!!!\n",
    "    score_sum = student[\"korean\"] + student[\"math\"] \\\n",
    "                    + student[\"english\"] + student[\"science\"]\n",
    "    score_avg = score_sum / 4\n",
    "    print(student[\"name\"], score_sum, score_avg, sep=\"\\t\")\"\"\""
   ],
   "metadata": {
    "collapsed": false
   },
   "id": "c45ab510060501c4"
  },
  {
   "cell_type": "code",
   "execution_count": null,
   "outputs": [],
   "source": [
    "students[0] # studnet"
   ],
   "metadata": {
    "collapsed": false
   },
   "id": "8ab5db1ff49a2363"
  },
  {
   "cell_type": "markdown",
   "source": [
    "# 2) 학생들에 대한 정보를 생성하는 함수!!!!!!\n",
    "#    ===> 학생마다 정보를 만들 때 키값이 반복이 되고 있다..\n",
    "#         귀찮으니,,,,함수로 만들어서 처리해보자!!!!\n",
    "#    ===> 가장 반복없는 기본이 되는 정보들만 가지고 생성!!"
   ],
   "metadata": {
    "collapsed": false
   },
   "id": "ff203d41a239c5eb"
  },
  {
   "cell_type": "code",
   "execution_count": null,
   "outputs": [],
   "source": [
    "def create_student( name, kor, math, english, science):\n",
    "    return{\"name\" : name , \"korean\":kor,\n",
    "           \"math\": math, \"english\":english,\n",
    "           \"science\":science}"
   ],
   "metadata": {
    "collapsed": false
   },
   "id": "2e324cac0a6e74ee"
  },
  {
   "cell_type": "code",
   "execution_count": null,
   "outputs": [],
   "source": [
    "def create_studnet( n, k, m, e, s):\n",
    "    return { \"name\":n, \"korean\":k,\n",
    "            \"math\":m, \"english\":e,\n",
    "             \"science\": s}"
   ],
   "metadata": {
    "collapsed": false
   },
   "id": "2f6ccf5d6c0bf07"
  },
  {
   "cell_type": "code",
   "execution_count": null,
   "outputs": [],
   "source": [
    "## --> AAA, 98, 93, 79, 95 \n",
    "create_student(\"AAA\", 98,93,79,95)"
   ],
   "metadata": {
    "collapsed": false
   },
   "id": "835cf31673b74ec2"
  },
  {
   "cell_type": "code",
   "execution_count": null,
   "outputs": [],
   "source": [
    "# ---> 함수로 개별 학생에 대한 정보를 생성하자!!!!\n",
    "students=[\n",
    "    create_studnet(\"AAA\", 98,93,79,95),\n",
    "    create_studnet(\"BBB\", 78,87,87,90),\n",
    "    create_studnet(\"CCC\", 90,85,89,92),\n",
    "    create_studnet(\"DDD\", 80,96,99,93),\n",
    "    create_studnet(\"EEE\", 70,80,89,95)\n",
    "]\n",
    "#students\n",
    "print(\"이름\",\"총점\",\"평균\", sep=\"\\t\")\n",
    "for student in students:\n",
    "    print(student_to_string(student))"
   ],
   "metadata": {
    "collapsed": false
   },
   "id": "50cbb464d2c73b14"
  },
  {
   "cell_type": "markdown",
   "source": [
    "#3) 필요한 기능들에 대해서 다 함수화를 최대한 해보자!!\n",
    "# 1명 학생에 대한 정보를 생성하는 함수\n",
    "# 1명 학생에 대한 정보를 바탕으로 총점을 구하는 함수\n",
    "# 1명 학생에 대한 정보를 바탕으로 평균을 구하는 함수\n",
    "# 1명 학생에 대한 정보를 출력하는 함수(이름, 총점, 평균)\n"
   ],
   "metadata": {
    "collapsed": false
   },
   "id": "4358fe23e40f6b8d"
  },
  {
   "cell_type": "code",
   "execution_count": null,
   "outputs": [],
   "source": [
    "# 1명 학생에 대한 정보를 생성하는 함수\n",
    "# 입력 : 이름, 국어. 수학, 영어. 과학\n",
    "# 기능 : 학생 정보를 Dict 생성\n",
    "# 출력 : 1명 학생 정보 Dict\n",
    "\n",
    "def create_studnet( n, k, m, e, s):\n",
    "    return { \"name\":n, \"korean\":k,\n",
    "            \"math\":m, \"english\":e,\n",
    "             \"science\": s}\n",
    "\n",
    "# -1명 학생에 대한 총점으로 계산해주는 함수\n",
    "# 입력 : 1명 학생의 정보\n",
    "# 충점을 꼐산\n",
    "# 출력 : 충점\n",
    "def student_get_sum( studnet ): # student = {\"name\" : \"AAA\"}\n",
    "    score_sum = studnet[\"korean\"]  + studnet[\"korean\"]\\ \n",
    "    + studnet[\"english\"]+ studnet[\"science\"]\n",
    "    \n",
    "    return score_sum\n",
    "# - 1명 학생에 대한 4과목 평균을 함수\n",
    "# - 입력 : 학생 1명에 대한 정보\n",
    "#   기능 : 4과목 점수 평균 계산\n",
    "#   출력 : 평균 점수\n",
    "def studnet_get_avg( studnet ):\n",
    "    score_avg = student_get_sum(studnet) / 4\n",
    "    return score_avg\n",
    "\n",
    "# - 1명 학생에 대한 정보 출력하는 함수/기능!!!!\n",
    "# - 입력 : 학생 1명에 대한 정보\n",
    "#   기능 : 정보를 출력 문자열생성 ->이름, 총점, 평균\n",
    "#   출력 : 출력할 문자열\n",
    "\n",
    "def student_to_string(studnet):\n",
    "    temp = \"{0}\\t{1}\\t{2}\".format( studnet[\"name\"],\n",
    "                               student_get_sum(studnet),\n",
    "                                studnet_get_avg(studnet))\n",
    "    return temp"
   ],
   "metadata": {
    "collapsed": false
   },
   "id": "59fd3edbf34e21de"
  },
  {
   "cell_type": "code",
   "execution_count": null,
   "outputs": [],
   "source": [
    "# ---> 함수로 개별 학생에 대한 정보를 생성하자!!!!\n",
    "students=[\n",
    "    create_studnet(\"AAA\", 98,93,79,95),\n",
    "    create_studnet(\"BBB\", 78,87,87,90),\n",
    "    create_studnet(\"CCC\", 90,85,89,92),\n",
    "    create_studnet(\"DDD\", 80,96,99,93),\n",
    "    create_studnet(\"EEE\", 70,80,89,95)\n",
    "]\n",
    "#students\n",
    "print(\"이름\",\"총점\",\"평균\", sep=\"\\t\")\n",
    "for student in students:\n",
    "    print(student_to_string(student))"
   ],
   "metadata": {
    "collapsed": false
   },
   "id": "908f67c3c5086bd6"
  },
  {
   "cell_type": "markdown",
   "source": [
    " 참고) 파이썬의 문자열을 표현하는 방식 크게 3가지\n",
    " % 연산자를 활용해서 표현\n",
    " format() 함수로 표현\n",
    " f-string 통해서 표현\n",
    " ===> 나는 f-string으로 사용 "
   ],
   "metadata": {
    "collapsed": false
   },
   "id": "e0bded05c3831964"
  },
  {
   "cell_type": "code",
   "execution_count": null,
   "outputs": [],
   "source": [
    "a = 345\n",
    "print(\"나의 총점 :\" , a)"
   ],
   "metadata": {
    "collapsed": false
   },
   "id": "99afa72fa7e7a336"
  },
  {
   "cell_type": "code",
   "execution_count": null,
   "outputs": [],
   "source": [
    "a = 345\n",
    "print(\"나의 총점 :.{/%f}\" .format(a))"
   ],
   "metadata": {
    "collapsed": false
   },
   "id": "e68079260d3841a4"
  },
  {
   "cell_type": "code",
   "execution_count": null,
   "outputs": [],
   "source": [
    "a = 345\n",
    "b = 86\n",
    "print(\"나의 총점 : {1}, 평균:{0}\" .format(a,b))"
   ],
   "metadata": {
    "collapsed": false
   },
   "id": "f55ab392287878d9"
  },
  {
   "cell_type": "markdown",
   "source": [
    "내가 사용할 것 \n",
    "f- string"
   ],
   "metadata": {
    "collapsed": false
   },
   "id": "eecaa88d56bf2cd7"
  },
  {
   "cell_type": "code",
   "execution_count": null,
   "outputs": [],
   "source": [
    "a = 345\n",
    "b = 86\n",
    "print(f\"나의 총점 : {a}, 평균:{b}\")"
   ],
   "metadata": {
    "collapsed": false
   },
   "id": "67d382101d952270"
  },
  {
   "cell_type": "code",
   "execution_count": null,
   "outputs": [],
   "source": [
    "# 너의 df 를 csv 파일로 호출 \n",
    "df.to_csV()"
   ],
   "metadata": {
    "collapsed": false
   },
   "id": "9594446698d776d2"
  },
  {
   "cell_type": "markdown",
   "source": [
    "##### 일반적으로 프로그램의 코드를 작성하는 스타일과!!!!\n",
    "#     ===> 객체지향으로 설계 : Class --> Object\n",
    "# : 필요한 기능 중심으로, 조립을 하는 방식( 유기적인 관계 ..)\n",
    "# --> 많은 시행착오, 경험, 노하우!!!!\n",
    "# ( ==> 프로그램설계 컨설턴트 : 컨설팅! ==> 단가 겁나 비싸요)\n",
    "#       + DB\n",
    "# ==> 동일한 기능이여도 어떻게 설계, 구조를 하느냐!!!!!!\n",
    "\n",
    "\n",
    "# 클래스Class : 속성+ 기능(뭔가 틀을 생성하는게 Class)\n",
    "#               점수,이름 :속성 --> Property\n",
    "#               평균구해주세, 총점계산 : 기능  --> Method\n",
    "\n",
    "# 객체 : 클래스를 기반으로 생성된 구체적인 대상!!!!\n",
    "# self : 자기 자신을!!!!!!"
   ],
   "metadata": {
    "collapsed": false
   },
   "id": "6fc6da002db7b54f"
  },
  {
   "cell_type": "code",
   "execution_count": null,
   "outputs": [],
   "source": [
    "\n",
    "class Student: # 일반적은 함수와 구별하기 위해서 대문자로 시작\n",
    "    # 생성자 : 필요한 초기 속성들에 대한 초기화 !!!\n",
    "    # ====> 파이썬에서 클래스 생성을 위한 미리 만든 특별함수\n",
    "    # __(양옆으로 두게)__\n",
    "    # (자기자신, 속성값들)\n",
    "    def __init__(self, name, korean, math, english, science):\n",
    "        self.name = name\n",
    "        self.korean = korean\n",
    "        self.math =   math      \n",
    "        self.english = english\n",
    "        self.science = science       "
   ],
   "metadata": {
    "collapsed": false
   },
   "id": "7ff814248dbc4394"
  },
  {
   "cell_type": "code",
   "execution_count": null,
   "outputs": [],
   "source": [
    "students=[\n",
    "    create_studnet(\"AAA\", 98,93,79,95),\n",
    "    create_studnet(\"BBB\", 78,87,87,90),\n",
    "    create_studnet(\"CCC\", 90,85,89,92),\n",
    "    create_studnet(\"DDD\", 80,96,99,93),\n",
    "    create_studnet(\"EEE\", 70,80,89,95)\n",
    "]\n",
    "student"
   ],
   "metadata": {
    "collapsed": false
   },
   "id": "f5ecd75e44018c1f"
  },
  {
   "cell_type": "code",
   "execution_count": null,
   "outputs": [],
   "source": [
    "students[0].name"
   ],
   "metadata": {
    "collapsed": false
   },
   "id": "45cd8ba52a4ff006"
  },
  {
   "cell_type": "code",
   "execution_count": null,
   "outputs": [],
   "source": [
    "students[0].korean"
   ],
   "metadata": {
    "collapsed": false
   },
   "id": "f9d7b6b30de18be3"
  },
  {
   "cell_type": "code",
   "execution_count": null,
   "outputs": [],
   "source": [
    "students[3].name"
   ],
   "metadata": {
    "collapsed": false
   },
   "id": "fdb64a9bc81af0b4"
  },
  {
   "cell_type": "code",
   "execution_count": null,
   "outputs": [],
   "source": [],
   "metadata": {
    "collapsed": false
   },
   "id": "bc8c0ffd86ec137d"
  },
  {
   "cell_type": "markdown",
   "source": [
    "# 클래스 내부에 ... 기능적으로 필요한 것들을 추가/ 설계 !!1\n",
    "====> 너 무슨 과목은 몇점이니?\n",
    "====> 너의 총점은 얼마니?\n",
    "\n",
    "class 클래스명: # 대문자로 표기\n",
    "    def __init__(self,,,,,,,):\n",
    "        self.설정한 속성값 = ~~~₩\n",
    "    def 메서드/기능함수(self,,,,,)\n",
    "    ~~~~~~~~~~~"
   ],
   "metadata": {
    "collapsed": false
   },
   "id": "27172a56f1bdbe2a"
  },
  {
   "cell_type": "code",
   "execution_count": null,
   "outputs": [],
   "source": [
    "class Student: # 일반적인 함수와 구별하기 위해서 대문자로 시작\n",
    "    # 생성자 : 필용한 초기 속성들에 대한 초기화!!!!!\n",
    "    #         ==> 파이썬에서 클래스 생성을 위한 미리 만든 특별함수\n",
    "    #             _(양옆으로 2개)\n",
    "    def __init__(self, name, korean,math,english,science):\n",
    "        self.name = name\n",
    "        self.korean = korean\n",
    "        self.math = math\n",
    "        self.english = english\n",
    "        self.science = science\n",
    "    \n",
    "    # --> 필요한 기능 추가 : 총점계산, 평균계산, 출력 (이름, 총점 등등등)\n",
    "    def get_sum(self):\n",
    "        score_sum = self.korean + self.math + self.science + self.english\n",
    "        return score_sum\n",
    "    \n",
    "    def get_avg(self):\n",
    "        score_avg = self.get_sum() / 4\n",
    "        return score_avg\n",
    "    \n",
    "    def to_string(self):\n",
    "        temp = \"{}\\t{}\\{}\".format(self.name, self.get_sum(),self.get_avg()) \n",
    "        return temp"
   ],
   "metadata": {
    "collapsed": false
   },
   "id": "16696155fafd3b35"
  },
  {
   "cell_type": "code",
   "execution_count": null,
   "outputs": [],
   "source": [
    "students=[\n",
    "    Studnet(\"AAA\", 98,93,79,95),\n",
    "    Studnet(\"BBB\", 78,87,87,90),\n",
    "    Studnet(\"CCC\", 90,85,89,92),\n",
    "    Studnet(\"DDD\", 80,96,99,93),\n",
    "    Studnet(\"EEE\", 70,80,89,95)\n",
    "]\n",
    "students"
   ],
   "metadata": {
    "collapsed": false
   },
   "id": "29007147a06fa77d"
  },
  {
   "cell_type": "code",
   "execution_count": null,
   "outputs": [],
   "source": [
    "students[0].name"
   ],
   "metadata": {
    "collapsed": false
   },
   "id": "a01dca9cc7dbe389"
  },
  {
   "cell_type": "markdown",
   "source": [
    "# ----> 특별 Method \n",
    "# 기본적인 연사자들을 내가 설계한 클래스들 사이에서\n",
    "# 동작을 정의를 할 수 있음!!! + , >"
   ],
   "metadata": {
    "collapsed": false
   },
   "id": "8c0821fcde313712"
  },
  {
   "cell_type": "code",
   "execution_count": null,
   "outputs": [],
   "source": [
    "\"1\" + \"2\""
   ],
   "metadata": {
    "collapsed": false
   },
   "id": "512b50d4bd92e948"
  },
  {
   "cell_type": "code",
   "execution_count": null,
   "outputs": [],
   "source": [
    "[1,2,3] + [4,5,6]"
   ],
   "metadata": {
    "collapsed": false
   },
   "id": "14d59e794c496a9"
  },
  {
   "cell_type": "code",
   "execution_count": null,
   "outputs": [],
   "source": [
    "a = [1,2,3]\n",
    "b = [4,5,6]"
   ],
   "metadata": {
    "collapsed": false
   },
   "id": "b32e9317f7d53e3a"
  },
  {
   "cell_type": "code",
   "execution_count": null,
   "outputs": [],
   "source": [
    "a + b"
   ],
   "metadata": {
    "collapsed": false
   },
   "id": "ec579a6e46d37eaf"
  },
  {
   "cell_type": "markdown",
   "source": [
    "우리의 학생 클래스 설계 입장에서 생각\n",
    "\n",
    "2명의 학생을 불러다가 총점에 대해서 비교\n",
    "2명 중에서 누가 더 총점이 높은가???\n",
    "\n",
    "===> 비교 : 부등식 !!!\n",
    "\n",
    "# std1 > std2\n",
    "# ===> 목적 : 내가 설계한 학생 클래스로 생성된 2 객체끼리 부등식의 연산자를 통해서 바로 총점 비교를 하도록 기능을 구현하고 싶다.\n",
    "=====> 특별 메서드 !!! "
   ],
   "metadata": {
    "collapsed": false
   },
   "id": "f6d6cb4c3893864d"
  },
  {
   "cell_type": "code",
   "execution_count": null,
   "outputs": [],
   "source": [
    "students[0].get_sum()"
   ],
   "metadata": {
    "collapsed": false
   },
   "id": "cd3dd5f4fdd9fe05"
  },
  {
   "cell_type": "code",
   "execution_count": null,
   "outputs": [],
   "source": [
    "students[0].get_sum() > students[1].get_sum()"
   ],
   "metadata": {
    "collapsed": false
   },
   "id": "c7a83cd42637fbef"
  },
  {
   "cell_type": "markdown",
   "source": [
    "# => 이런 식으로 students[0] > student[1]\n",
    "# 기준은 나는 총점으로 하겠다... 국어 성적 ... 설계에 따라서\n",
    "\n",
    "Special Method : === (eq), !=(ne), > : (gt), >= : (ge)\n",
    "                 < : (lt), <= : (le)"
   ],
   "metadata": {
    "collapsed": false
   },
   "id": "458808a6cae144a8"
  },
  {
   "cell_type": "code",
   "execution_count": null,
   "outputs": [],
   "source": [
    "class Student: # 일반적인 함수와 구별하기 위해서 대문자로 시작\n",
    "    # 생성자 : 필용한 초기 속성들에 대한 초기화!!!!!\n",
    "    #         ==> 파이썬에서 클래스 생성을 위한 미리 만든 특별함수\n",
    "    #             _(양옆으로 2개)\n",
    "    def __init__(self, name, korean,math,english,science):\n",
    "        self.name = name\n",
    "        self.korean = korean\n",
    "        self.math = math\n",
    "        self.english = english\n",
    "        self.science = science\n",
    "    \n",
    "    # --> 필요한 기능 추가 : 총점계산, 평균계산, 출력 (이름, 총점 등등등)\n",
    "    def get_sum(self):\n",
    "        score_sum = self.korean + self.math + self.science + self.english\n",
    "        return score_sum\n",
    "    \n",
    "    def get_avg(self):\n",
    "        score_avg = self.get_sum() / 4\n",
    "        return score_avg\n",
    "    \n",
    "    def to_string(self):\n",
    "        temp = \"{}\\t{}\\{}\".format(self.name, self.get_sum(),self.get_avg()) \n",
    "        return temp\n",
    "##################### -> 2의 학생 클래스 끼리의 연산자들을 사용해서 비교\n",
    "# 저의 기준 : 4과목 총점을 기준으로 비교 !!!!!!!!!!!!!!(개인별로 목적에 맞춰서....!)\n",
    "    # sp mathod =\n",
    "    def __eq__(self, value): # std1 == std2, 총점\n",
    "        return self.get_sum() == value.get_sum()\n",
    "        #return self.korean == value.get_sum()    \n",
    "    def __ne__(self, value):\n",
    "        return self.get_sum() != value.get_sum()\n",
    "     \n",
    "    def __gt__(self, value):\n",
    "         return self.get_sum() > value.get_sum()\n",
    "     \n",
    "    def __ge__(self, value):\n",
    "         return self.get_sum() >= value.get_sum()\n",
    "    \n",
    "    def __lt__(self, value):\n",
    "         return self.get_sum() < value.get_sum()\n",
    "    \n",
    "    def __le__(self, value):\n",
    "         return self.get_sum() <= value.get_sum() "
   ],
   "metadata": {
    "collapsed": false
   },
   "id": "429cedd71d5316fb"
  },
  {
   "cell_type": "code",
   "execution_count": null,
   "outputs": [],
   "source": [
    "students=[\n",
    "    Studnet(\"AAA\", 98,93,79,95),\n",
    "    Studnet(\"BBB\", 78,87,87,90),\n",
    "    Studnet(\"CCC\", 90,85,89,92),\n",
    "    Studnet(\"DDD\", 80,96,99,93),\n",
    "    Studnet(\"EEE\", 70,80,89,95)\n",
    "]\n",
    "students"
   ],
   "metadata": {
    "collapsed": false
   },
   "id": "1a681dfd62121ad2"
  },
  {
   "cell_type": "code",
   "execution_count": null,
   "outputs": [],
   "source": [
    "students[0].get_sum()"
   ],
   "metadata": {
    "collapsed": false
   },
   "id": "678405c63dfa3e62"
  },
  {
   "cell_type": "code",
   "execution_count": null,
   "outputs": [],
   "source": [
    "students[1].get_sum()"
   ],
   "metadata": {
    "collapsed": false
   },
   "id": "37607796d559c20e"
  },
  {
   "cell_type": "markdown",
   "source": [
    "# ==> 클래스에 각 생성된 객체끼리 비교 연산자기능을 정의를 했고, 그 떄 정의가 총점을 기준으로!"
   ],
   "metadata": {
    "collapsed": false
   },
   "id": "3c948dbaea680ec7"
  },
  {
   "cell_type": "code",
   "execution_count": null,
   "outputs": [],
   "source": [
    "# C번 학생하고 1번 학생하고 총점이 같니?\n",
    "students[0] == students[1]"
   ],
   "metadata": {
    "collapsed": false
   },
   "id": "ede1c0e12445b4b1"
  },
  {
   "cell_type": "code",
   "execution_count": null,
   "outputs": [],
   "source": [
    "# 0번 학생의 총점이 1번 학생보다 더 높니?\n",
    "students[0] > students[1]"
   ],
   "metadata": {
    "collapsed": false
   },
   "id": "9bfbca66ccdeedc7"
  },
  {
   "cell_type": "markdown",
   "source": [
    "## 클래스 \n",
    "# ===> 필요한 속성값 : property ( 변수 값)\n",
    "# ===> 필요한 기능 / 함수 : method ( 필요한 기능/ 함수) 클래스 내에서 필요한 기능들\n",
    "+ 비교, + 이미 지정된 연산자들에서도 동작할 수 있도록 설계!!!\n",
    "\n",
    "====> 내가 필요한 것들을 잘 설계해서 편하게 쓰자!!!"
   ],
   "metadata": {
    "collapsed": false
   },
   "id": "44d55d8536e221d"
  },
  {
   "cell_type": "code",
   "execution_count": null,
   "outputs": [],
   "source": [
    "# 참고) 외부에서 내부 property 속성값에 대한 접근성 !!!"
   ],
   "metadata": {
    "collapsed": false
   },
   "id": "c3760711bf3a9c67"
  },
  {
   "cell_type": "code",
   "execution_count": null,
   "outputs": [],
   "source": [
    "class Square:\n",
    "    def __init__(self, size):\n",
    "        self.size = size\n",
    "    \n",
    "    def get_area(self):\n",
    "        return self.size * self.size"
   ],
   "metadata": {
    "collapsed": false
   },
   "id": "8e70ec013d516182"
  },
  {
   "cell_type": "code",
   "execution_count": null,
   "outputs": [],
   "source": [
    "s1 = Square(10)\n",
    "s1.size"
   ],
   "metadata": {
    "collapsed": false
   },
   "id": "117db9faed46c3a2"
  },
  {
   "cell_type": "code",
   "execution_count": null,
   "outputs": [],
   "source": [
    "# 너의 면적값은??\n",
    "s1.get_area()"
   ],
   "metadata": {
    "collapsed": false
   },
   "id": "f5469572c821e6de"
  },
  {
   "cell_type": "code",
   "execution_count": null,
   "outputs": [],
   "source": [
    "s2 = Square(20)\n",
    "s2"
   ],
   "metadata": {
    "collapsed": false
   },
   "id": "1a34fa400251c52b"
  },
  {
   "cell_type": "code",
   "execution_count": null,
   "outputs": [],
   "source": [
    "s2.size"
   ],
   "metadata": {
    "collapsed": false
   },
   "id": "e1dc45d6fc2ea610"
  },
  {
   "cell_type": "code",
   "execution_count": null,
   "outputs": [],
   "source": [
    "s1.size = 20\n",
    "s1.get_area()"
   ],
   "metadata": {
    "collapsed": false
   },
   "id": "af4ed051798348bd"
  },
  {
   "cell_type": "markdown",
   "source": [
    "## 클래스 내부의 속성값에 대한 외부의 접근을 막기 위해서\n",
    "# 속성값을 __ 지정을 할 수 있음!!"
   ],
   "metadata": {
    "collapsed": false
   },
   "id": "55b98236e31ea9db"
  },
  {
   "cell_type": "code",
   "execution_count": null,
   "outputs": [],
   "source": [
    "class Square:\n",
    "    def __init__(self, size):\n",
    "        self.size = size\n",
    "    \n",
    "    def get_area(self):\n",
    "        return self.size * self.size"
   ],
   "metadata": {
    "collapsed": false
   },
   "id": "e0b99e56bc03c1f8"
  },
  {
   "cell_type": "code",
   "execution_count": null,
   "outputs": [],
   "source": [
    "s1 = Square(10)\n",
    "s1.get_area()"
   ],
   "metadata": {
    "collapsed": false
   },
   "id": "c5c72b9d23116405"
  },
  {
   "cell_type": "code",
   "execution_count": null,
   "outputs": [],
   "source": [
    "# 봉쇄를 한 예시 \n",
    "s1.__size"
   ],
   "metadata": {
    "collapsed": false
   },
   "id": "a8ef14d1037b6ff7"
  },
  {
   "cell_type": "code",
   "execution_count": 167,
   "outputs": [],
   "source": [
    "class Square:\n",
    "    def __init__(self, size):\n",
    "        self.__size = size\n",
    "    \n",
    "    def get_area(self):\n",
    "        return self.__size * self.__size\n",
    "    ## 내부 속성에 대한 접근을 기능적으로 따로 설계!!!!\n",
    "    # 1. 속성값을 나한테 알려주세요 !!! : ~~~ get\n",
    "    def get_size(self):\n",
    "        return self.__size\n",
    "    # 2. 속성값에 대한 변경~ !!!      : ~~~~ set ~~~~\n",
    "    def set_size(self, value):\n",
    "        self.__size = value"
   ],
   "metadata": {
    "collapsed": false,
    "ExecuteTime": {
     "end_time": "2024-03-28T02:56:25.167697Z",
     "start_time": "2024-03-28T02:56:25.146852Z"
    }
   },
   "id": "9ca4a979e4f59afc"
  },
  {
   "cell_type": "code",
   "execution_count": 168,
   "outputs": [
    {
     "data": {
      "text/plain": "100"
     },
     "execution_count": 168,
     "metadata": {},
     "output_type": "execute_result"
    }
   ],
   "source": [
    "s1 = Square(10)\n",
    "s1.get_area()"
   ],
   "metadata": {
    "collapsed": false,
    "ExecuteTime": {
     "end_time": "2024-03-28T02:56:25.708828Z",
     "start_time": "2024-03-28T02:56:25.691804Z"
    }
   },
   "id": "dd1709dbd1907a5c"
  },
  {
   "cell_type": "code",
   "execution_count": 171,
   "outputs": [
    {
     "data": {
      "text/plain": "10"
     },
     "execution_count": 171,
     "metadata": {},
     "output_type": "execute_result"
    }
   ],
   "source": [
    "s1.get_size()"
   ],
   "metadata": {
    "collapsed": false,
    "ExecuteTime": {
     "end_time": "2024-03-28T02:56:44.997139Z",
     "start_time": "2024-03-28T02:56:44.959429Z"
    }
   },
   "id": "d14c0f6cc521da6"
  },
  {
   "cell_type": "code",
   "execution_count": 172,
   "outputs": [],
   "source": [
    "s1.set_size(20)"
   ],
   "metadata": {
    "collapsed": false,
    "ExecuteTime": {
     "end_time": "2024-03-28T02:56:58.772931Z",
     "start_time": "2024-03-28T02:56:58.764114Z"
    }
   },
   "id": "99bbf6dbf9cdc51f"
  },
  {
   "cell_type": "code",
   "execution_count": 173,
   "outputs": [
    {
     "data": {
      "text/plain": "400"
     },
     "execution_count": 173,
     "metadata": {},
     "output_type": "execute_result"
    }
   ],
   "source": [
    "s1.get_area()"
   ],
   "metadata": {
    "collapsed": false,
    "ExecuteTime": {
     "end_time": "2024-03-28T02:57:05.950688Z",
     "start_time": "2024-03-28T02:57:05.936294Z"
    }
   },
   "id": "29ccc753d5402057"
  },
  {
   "cell_type": "markdown",
   "source": [
    "model = svm(~~~~~~~~~)\n",
    "model.fit(X_train, y_train)\n",
    "model.predict(X_test)"
   ],
   "metadata": {
    "collapsed": false
   },
   "id": "efd4c835ede65d5c"
  },
  {
   "cell_type": "code",
   "execution_count": null,
   "outputs": [],
   "source": [],
   "metadata": {
    "collapsed": false
   },
   "id": "3f633c7862282270"
  }
 ],
 "metadata": {
  "kernelspec": {
   "display_name": "Python 3",
   "language": "python",
   "name": "python3"
  },
  "language_info": {
   "codemirror_mode": {
    "name": "ipython",
    "version": 2
   },
   "file_extension": ".py",
   "mimetype": "text/x-python",
   "name": "python",
   "nbconvert_exporter": "python",
   "pygments_lexer": "ipython2",
   "version": "2.7.6"
  }
 },
 "nbformat": 4,
 "nbformat_minor": 5
}

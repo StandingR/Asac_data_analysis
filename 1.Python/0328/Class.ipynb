{
 "cells": [
  {
   "cell_type": "code",
   "execution_count": 11,
   "id": "initial_id",
   "metadata": {
    "collapsed": true,
    "ExecuteTime": {
     "end_time": "2024-03-28T02:21:01.267500Z",
     "start_time": "2024-03-28T02:21:01.260710Z"
    }
   },
   "outputs": [],
   "source": [
    "class Studnet: # 일반적인 함수와 구별하기 위해서 대문자로 시작\n",
    "    # 생성자 : 필용한 초기 속성들에 대한 초기화!!!!!\n",
    "    #         ==> 파이썬에서 클래스 생성을 위한 미리 만든 특별함수\n",
    "    #             _(양옆으로 2개)\n",
    "    def __init__(self, name, korean,math,english,science):\n",
    "        self.name = name\n",
    "        self.korean = korean\n",
    "        self.math = math\n",
    "        self.english = english\n",
    "        self.science = science\n",
    "    # --> 필요한 기능 추가 : 총점계산, 평균계산, 출력(이름,총점,평균)\n",
    "    def get_sum(self):\n",
    "        score_sum = self.korean + self.math + self.english + self.science\n",
    "        return score_sum\n",
    "    def get_avg(self):\n",
    "        score_avg = self.get_sum() / 4\n",
    "        return score_avg\n",
    "    def to_string(self):\n",
    "        temp = \"{0}\\t{1}\\t{2}\".format(self.name, self.get_sum(),\n",
    "                                   self.get_avg())\n",
    "        return temp\n"
   ]
  },
  {
   "cell_type": "code",
   "execution_count": 12,
   "outputs": [
    {
     "data": {
      "text/plain": "[<__main__.Studnet at 0x103e1da60>,\n <__main__.Studnet at 0x103d78f10>,\n <__main__.Studnet at 0x103e443a0>,\n <__main__.Studnet at 0x103e440d0>,\n <__main__.Studnet at 0x1035a7790>]"
     },
     "execution_count": 12,
     "metadata": {},
     "output_type": "execute_result"
    }
   ],
   "source": [
    "students=[\n",
    "    Studnet(\"AAA\", 98,93,79,95),\n",
    "    Studnet(\"BBB\", 78,87,87,90),\n",
    "    Studnet(\"CCC\", 90,85,89,92),\n",
    "    Studnet(\"DDD\", 80,96,99,93),\n",
    "    Studnet(\"EEE\", 70,80,89,95)\n",
    "]\n",
    "students"
   ],
   "metadata": {
    "collapsed": false,
    "ExecuteTime": {
     "end_time": "2024-03-28T02:21:01.811897Z",
     "start_time": "2024-03-28T02:21:01.808416Z"
    }
   },
   "id": "703729211dd35b61"
  },
  {
   "cell_type": "code",
   "execution_count": 3,
   "outputs": [
    {
     "data": {
      "text/plain": "98"
     },
     "execution_count": 3,
     "metadata": {},
     "output_type": "execute_result"
    }
   ],
   "source": [
    "students[0].korean"
   ],
   "metadata": {
    "collapsed": false,
    "ExecuteTime": {
     "end_time": "2024-03-28T02:14:37.816446Z",
     "start_time": "2024-03-28T02:14:37.809623Z"
    }
   },
   "id": "b4cf3bc5d0e75b4c"
  },
  {
   "cell_type": "code",
   "execution_count": 4,
   "outputs": [
    {
     "data": {
      "text/plain": "365"
     },
     "execution_count": 4,
     "metadata": {},
     "output_type": "execute_result"
    }
   ],
   "source": [
    "students[0].get_sum()"
   ],
   "metadata": {
    "collapsed": false,
    "ExecuteTime": {
     "end_time": "2024-03-28T02:14:47.471367Z",
     "start_time": "2024-03-28T02:14:47.463155Z"
    }
   },
   "id": "795f0f0a99701b9a"
  },
  {
   "cell_type": "code",
   "execution_count": 5,
   "outputs": [
    {
     "data": {
      "text/plain": "91.25"
     },
     "execution_count": 5,
     "metadata": {},
     "output_type": "execute_result"
    }
   ],
   "source": [
    "students[0].get_avg()"
   ],
   "metadata": {
    "collapsed": false,
    "ExecuteTime": {
     "end_time": "2024-03-28T02:14:53.228803Z",
     "start_time": "2024-03-28T02:14:53.224977Z"
    }
   },
   "id": "cc359cd9e575dc86"
  },
  {
   "cell_type": "code",
   "execution_count": 7,
   "outputs": [
    {
     "data": {
      "text/plain": "'AAA\\t365\\t91.25'"
     },
     "execution_count": 7,
     "metadata": {},
     "output_type": "execute_result"
    }
   ],
   "source": [
    "students[0].to_string()"
   ],
   "metadata": {
    "collapsed": false,
    "ExecuteTime": {
     "end_time": "2024-03-28T02:15:34.062567Z",
     "start_time": "2024-03-28T02:15:34.044909Z"
    }
   },
   "id": "9c4226f51a9090f2"
  },
  {
   "cell_type": "code",
   "execution_count": 8,
   "outputs": [
    {
     "name": "stdout",
     "output_type": "stream",
     "text": [
      "AAA\t365\t91.25\n"
     ]
    }
   ],
   "source": [
    "print(students[0].to_string())"
   ],
   "metadata": {
    "collapsed": false,
    "ExecuteTime": {
     "end_time": "2024-03-28T02:15:45.957001Z",
     "start_time": "2024-03-28T02:15:45.937296Z"
    }
   },
   "id": "8113242d4a0b0225"
  },
  {
   "cell_type": "code",
   "execution_count": 9,
   "outputs": [
    {
     "data": {
      "text/plain": "368"
     },
     "execution_count": 9,
     "metadata": {},
     "output_type": "execute_result"
    }
   ],
   "source": [
    "students[3].get_sum()"
   ],
   "metadata": {
    "collapsed": false,
    "ExecuteTime": {
     "end_time": "2024-03-28T02:15:57.762916Z",
     "start_time": "2024-03-28T02:15:57.748804Z"
    }
   },
   "id": "968ab86cdc1cf189"
  },
  {
   "cell_type": "code",
   "execution_count": 10,
   "outputs": [
    {
     "name": "stdout",
     "output_type": "stream",
     "text": [
      "이름\t총점\t평균\n",
      "AAA\t365\t91.25\n",
      "BBB\t342\t85.5\n",
      "CCC\t356\t89.0\n",
      "DDD\t368\t92.0\n",
      "EEE\t334\t83.5\n"
     ]
    }
   ],
   "source": [
    "print('이름',\"총점\",\"평균\", sep = \"\\t\")\n",
    "for student in students:\n",
    "    print(student.to_string())"
   ],
   "metadata": {
    "collapsed": false,
    "ExecuteTime": {
     "end_time": "2024-03-28T02:16:46.206244Z",
     "start_time": "2024-03-28T02:16:46.190589Z"
    }
   },
   "id": "6e4c0bd11bfc4de"
  },
  {
   "cell_type": "code",
   "execution_count": null,
   "outputs": [],
   "source": [],
   "metadata": {
    "collapsed": false
   },
   "id": "5fef17224fdff79e"
  }
 ],
 "metadata": {
  "kernelspec": {
   "display_name": "Python 3",
   "language": "python",
   "name": "python3"
  },
  "language_info": {
   "codemirror_mode": {
    "name": "ipython",
    "version": 2
   },
   "file_extension": ".py",
   "mimetype": "text/x-python",
   "name": "python",
   "nbconvert_exporter": "python",
   "pygments_lexer": "ipython2",
   "version": "2.7.6"
  }
 },
 "nbformat": 4,
 "nbformat_minor": 5
}

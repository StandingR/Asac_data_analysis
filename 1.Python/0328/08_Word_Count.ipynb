{
 "cells": [
  {
   "cell_type": "markdown",
   "source": [
    "가장 기본적인 Dict를 가지고 활용하는 예 : 워드카운트\n",
    "=> 어떤 단어가 몇 번 나타났느냐\n",
    "단어 & 출현빈도 (연결/쌍)\n",
    "단) 내가 수집한/처리할 긴 텍스트들 중에서 쭉 스캔하면서.....\n",
    "해당 단어가 나올 떄마다.... 카운팅!!!"
   ],
   "metadata": {
    "collapsed": false
   },
   "id": "dd7127089a561783"
  },
  {
   "cell_type": "code",
   "execution_count": 2,
   "id": "initial_id",
   "metadata": {
    "collapsed": true,
    "ExecuteTime": {
     "end_time": "2024-03-28T00:19:17.582182Z",
     "start_time": "2024-03-28T00:19:17.560475Z"
    }
   },
   "outputs": [
    {
     "data": {
      "text/plain": "\"The snow glows white on the mountain tonight Not a footprint to be seen A kingdom of isolation And it looks like I'm the queen\""
     },
     "execution_count": 2,
     "metadata": {},
     "output_type": "execute_result"
    }
   ],
   "source": [
    "songs = \"The snow glows white on the mountain tonight Not a footprint to be seen A kingdom of isolation And it looks like I'm the queen\"\n",
    "songs"
   ]
  },
  {
   "cell_type": "markdown",
   "source": [
    "주어진 긴 텍스트 (문자열)을 기준 : 단어\n",
    "    ++ 엄일하게 처리하기 위해서는 : 문장에 대한 품사 처리\n",
    "단어 중심 (띄어쓰기 중심으로 간단히)    "
   ],
   "metadata": {
    "collapsed": false
   },
   "id": "11cb258b5c5a0798"
  },
  {
   "cell_type": "code",
   "execution_count": 3,
   "outputs": [
    {
     "data": {
      "text/plain": "['The',\n 'snow',\n 'glows',\n 'white',\n 'on',\n 'the',\n 'mountain',\n 'tonight',\n 'Not',\n 'a',\n 'footprint',\n 'to',\n 'be',\n 'seen',\n 'A',\n 'kingdom',\n 'of',\n 'isolation',\n 'And',\n 'it',\n 'looks',\n 'like',\n \"I'm\",\n 'the',\n 'queen']"
     },
     "execution_count": 3,
     "metadata": {},
     "output_type": "execute_result"
    }
   ],
   "source": [
    "songs.split()"
   ],
   "metadata": {
    "collapsed": false,
    "ExecuteTime": {
     "end_time": "2024-03-28T00:19:37.730634Z",
     "start_time": "2024-03-28T00:19:37.725382Z"
    }
   },
   "id": "1cc9c34239ebf2d9"
  },
  {
   "cell_type": "markdown",
   "source": [
    "TO DO : 위의 단어 리스트들을 돌아가면서 : for\n",
    "=> 단어별로 몇번 나타나는지 카운팅\n",
    "case1) 신규 등록된 단어 : 단어 키, 값 1\n",
    "case2) 이미 나왔던 단어 : 단어 키 조회 -> 값 +1 갱신"
   ],
   "metadata": {
    "collapsed": false
   },
   "id": "2db6ff80a9f383e2"
  },
  {
   "cell_type": "code",
   "execution_count": null,
   "outputs": [],
   "source": [
    "words = songs.split(\"\")\n",
    "# 내가 words 입력에 대해서 처리할 양식!\n",
    "counts = {} # 키 : 단어 , 값 : 빈도\n",
    "# => 수집된 단어들을 돌아가면서 \n",
    "for word in words: # 복합어 처리 ....\n",
    "    # 1) 대소문자에 대한 처리 : 소문자로 통일\n",
    "    word = word.lower() # The => the\n",
    "    # 2) 입력 단어들에 대한 빈도 차리\n",
    "    # ==> 기등\n",
    "    if"
   ],
   "metadata": {
    "collapsed": false
   },
   "id": "2fc4900adb012c9d"
  }
 ],
 "metadata": {
  "kernelspec": {
   "display_name": "Python 3",
   "language": "python",
   "name": "python3"
  },
  "language_info": {
   "codemirror_mode": {
    "name": "ipython",
    "version": 2
   },
   "file_extension": ".py",
   "mimetype": "text/x-python",
   "name": "python",
   "nbconvert_exporter": "python",
   "pygments_lexer": "ipython2",
   "version": "2.7.6"
  }
 },
 "nbformat": 4,
 "nbformat_minor": 5
}
